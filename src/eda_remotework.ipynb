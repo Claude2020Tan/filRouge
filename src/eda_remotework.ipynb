{
 "cells": [
  {
   "cell_type": "code",
   "execution_count": 1,
   "metadata": {},
   "outputs": [],
   "source": [
    "import matplotlib.pyplot as plt\n",
    "import seaborn as sns"
   ]
  },
  {
   "cell_type": "code",
   "execution_count": 2,
   "metadata": {},
   "outputs": [],
   "source": [
    "import requests\n",
    "from pyspark.sql import SparkSession\n",
    "import numpy  as np\n",
    "import pandas as pd\n",
    "import csv\n",
    "import re"
   ]
  },
  {
   "cell_type": "code",
   "execution_count": 3,
   "metadata": {},
   "outputs": [],
   "source": [
    "#spark = SparkSession.builder.appName(\"HadoopTp\").getOrCreate()"
   ]
  },
  {
   "cell_type": "code",
   "execution_count": 4,
   "metadata": {},
   "outputs": [],
   "source": [
    "gcs_df  = pd.read_csv(\"./data/gcs-apr5.csv\")"
   ]
  },
  {
   "cell_type": "code",
   "execution_count": 5,
   "metadata": {},
   "outputs": [
    {
     "data": {
      "text/plain": [
       "(25000, 10)"
      ]
     },
     "execution_count": 5,
     "metadata": {},
     "output_type": "execute_result"
    }
   ],
   "source": [
    "gcs_df.shape"
   ]
  },
  {
   "cell_type": "code",
   "execution_count": 6,
   "metadata": {},
   "outputs": [],
   "source": [
    "expand_df = gcs_df['Geography'].str.split('-', expand=True)"
   ]
  },
  {
   "cell_type": "code",
   "execution_count": 7,
   "metadata": {},
   "outputs": [
    {
     "data": {
      "text/plain": [
       "SOUTH        9439\n",
       "MIDWEST      7005\n",
       "WEST         4773\n",
       "NORTHEAST    3781\n",
       "Name: 1, dtype: int64"
      ]
     },
     "execution_count": 7,
     "metadata": {},
     "output_type": "execute_result"
    }
   ],
   "source": [
    "expand_df[1].value_counts()"
   ]
  },
  {
   "cell_type": "code",
   "execution_count": 8,
   "metadata": {},
   "outputs": [],
   "source": [
    "gcs_df['region'] = expand_df[1].values"
   ]
  },
  {
   "cell_type": "code",
   "execution_count": 9,
   "metadata": {},
   "outputs": [],
   "source": [
    "gcs_df['etat'] = expand_df[2].values"
   ]
  },
  {
   "cell_type": "code",
   "execution_count": 10,
   "metadata": {},
   "outputs": [],
   "source": [
    "#df[\"region\"].value_counts(normalize=True)"
   ]
  },
  {
   "cell_type": "markdown",
   "metadata": {},
   "source": [
    "## Nettoyage des données\n"
   ]
  },
  {
   "cell_type": "markdown",
   "metadata": {},
   "source": [
    "Dans les données il y a plusieurs lignes qui contiennent \"Unknown\" comme valeur\n",
    "Vu que les données sont des données catégoriques, je fais le choix de remplacer toutes les valeurs inconnues par la classe modale. "
   ]
  },
  {
   "cell_type": "code",
   "execution_count": 11,
   "metadata": {},
   "outputs": [
    {
     "data": {
      "text/plain": [
       "None of the above / Not working for pay        10827\n",
       "I continue to commute to work                   5323\n",
       "Used to commute, now work from home             4834\n",
       "Used to work from home and still do             2071\n",
       "I have recently been furloughed or laid-off     1667\n",
       "Used to work from home, but now I commute        278\n",
       "Name: Question #1 Answer, dtype: int64"
      ]
     },
     "execution_count": 11,
     "metadata": {},
     "output_type": "execute_result"
    }
   ],
   "source": [
    "gcs_df[\"Question #1 Answer\"].value_counts()"
   ]
  },
  {
   "cell_type": "code",
   "execution_count": 12,
   "metadata": {},
   "outputs": [],
   "source": [
    "ddd = gcs_df[gcs_df[\"Question #1 Answer\"] != \"None of the above / Not working for pay\"]"
   ]
  },
  {
   "cell_type": "code",
   "execution_count": 13,
   "metadata": {},
   "outputs": [
    {
     "data": {
      "text/plain": [
       "SOUTH        5235\n",
       "MIDWEST      4132\n",
       "WEST         2630\n",
       "NORTHEAST    2174\n",
       "Name: region, dtype: int64"
      ]
     },
     "execution_count": 13,
     "metadata": {},
     "output_type": "execute_result"
    }
   ],
   "source": [
    "ddd.region.value_counts()"
   ]
  },
  {
   "cell_type": "code",
   "execution_count": 14,
   "metadata": {},
   "outputs": [],
   "source": [
    "gcs_df = gcs_df[gcs_df[\"Question #1 Answer\"]!= \"None of the above / Not working for pay\"]"
   ]
  },
  {
   "cell_type": "markdown",
   "metadata": {},
   "source": [
    "##### s = pd.Series([\"M\", \"M\", \"Unknown\", \"F\", \"F\", \"M\", \"F\", \"F\", \"Unknown\"])"
   ]
  },
  {
   "cell_type": "code",
   "execution_count": 15,
   "metadata": {},
   "outputs": [
    {
     "data": {
      "text/html": [
       "<div>\n",
       "<style scoped>\n",
       "    .dataframe tbody tr th:only-of-type {\n",
       "        vertical-align: middle;\n",
       "    }\n",
       "\n",
       "    .dataframe tbody tr th {\n",
       "        vertical-align: top;\n",
       "    }\n",
       "\n",
       "    .dataframe thead th {\n",
       "        text-align: right;\n",
       "    }\n",
       "</style>\n",
       "<table border=\"1\" class=\"dataframe\">\n",
       "  <thead>\n",
       "    <tr style=\"text-align: right;\">\n",
       "      <th></th>\n",
       "      <th>User ID</th>\n",
       "      <th>Time (UTC)</th>\n",
       "      <th>Survey Completion</th>\n",
       "      <th>Publisher Category</th>\n",
       "      <th>Gender</th>\n",
       "      <th>Age</th>\n",
       "      <th>Geography</th>\n",
       "      <th>Weight</th>\n",
       "      <th>Question #1 Answer</th>\n",
       "      <th>Response Time #1 (ms)</th>\n",
       "      <th>region</th>\n",
       "      <th>etat</th>\n",
       "    </tr>\n",
       "  </thead>\n",
       "  <tbody>\n",
       "    <tr>\n",
       "      <th>1</th>\n",
       "      <td>1000296325</td>\n",
       "      <td>2020-04-02 03:00:00</td>\n",
       "      <td>Complete</td>\n",
       "      <td>News</td>\n",
       "      <td>Male</td>\n",
       "      <td>55-64</td>\n",
       "      <td>US-SOUTH-AL-Muscle Shoals</td>\n",
       "      <td>0.868838</td>\n",
       "      <td>I continue to commute to work</td>\n",
       "      <td>22582</td>\n",
       "      <td>SOUTH</td>\n",
       "      <td>AL</td>\n",
       "    </tr>\n",
       "    <tr>\n",
       "      <th>3</th>\n",
       "      <td>1000492508</td>\n",
       "      <td>2020-04-02 15:00:00</td>\n",
       "      <td>Complete</td>\n",
       "      <td>News</td>\n",
       "      <td>Male</td>\n",
       "      <td>55-64</td>\n",
       "      <td>US-SOUTH-TN-Nashville</td>\n",
       "      <td>0.868838</td>\n",
       "      <td>I continue to commute to work</td>\n",
       "      <td>20659</td>\n",
       "      <td>SOUTH</td>\n",
       "      <td>TN</td>\n",
       "    </tr>\n",
       "    <tr>\n",
       "      <th>4</th>\n",
       "      <td>1000512424</td>\n",
       "      <td>2020-04-03 14:00:00</td>\n",
       "      <td>Complete</td>\n",
       "      <td>News</td>\n",
       "      <td>Female</td>\n",
       "      <td>45-54</td>\n",
       "      <td>US-SOUTH-TX</td>\n",
       "      <td>0.966719</td>\n",
       "      <td>Used to work from home and still do</td>\n",
       "      <td>32449</td>\n",
       "      <td>SOUTH</td>\n",
       "      <td>TX</td>\n",
       "    </tr>\n",
       "    <tr>\n",
       "      <th>8</th>\n",
       "      <td>1000887655</td>\n",
       "      <td>2020-04-05 05:00:00</td>\n",
       "      <td>Complete</td>\n",
       "      <td>News</td>\n",
       "      <td>Unknown</td>\n",
       "      <td>Unknown</td>\n",
       "      <td>US-MIDWEST-IL-Bloomington</td>\n",
       "      <td>0.000000</td>\n",
       "      <td>Used to commute, now work from home</td>\n",
       "      <td>13310</td>\n",
       "      <td>MIDWEST</td>\n",
       "      <td>IL</td>\n",
       "    </tr>\n",
       "    <tr>\n",
       "      <th>9</th>\n",
       "      <td>1000977342</td>\n",
       "      <td>2020-04-01 18:00:00</td>\n",
       "      <td>Complete</td>\n",
       "      <td>News</td>\n",
       "      <td>Female</td>\n",
       "      <td>45-54</td>\n",
       "      <td>US-NORTHEAST-PA-Lock Haven</td>\n",
       "      <td>1.117327</td>\n",
       "      <td>I continue to commute to work</td>\n",
       "      <td>21037</td>\n",
       "      <td>NORTHEAST</td>\n",
       "      <td>PA</td>\n",
       "    </tr>\n",
       "  </tbody>\n",
       "</table>\n",
       "</div>"
      ],
      "text/plain": [
       "      User ID           Time (UTC) Survey Completion Publisher Category  \\\n",
       "1  1000296325  2020-04-02 03:00:00          Complete               News   \n",
       "3  1000492508  2020-04-02 15:00:00          Complete               News   \n",
       "4  1000512424  2020-04-03 14:00:00          Complete               News   \n",
       "8  1000887655  2020-04-05 05:00:00          Complete               News   \n",
       "9  1000977342  2020-04-01 18:00:00          Complete               News   \n",
       "\n",
       "    Gender      Age                   Geography    Weight  \\\n",
       "1     Male    55-64   US-SOUTH-AL-Muscle Shoals  0.868838   \n",
       "3     Male    55-64       US-SOUTH-TN-Nashville  0.868838   \n",
       "4   Female    45-54                 US-SOUTH-TX  0.966719   \n",
       "8  Unknown  Unknown   US-MIDWEST-IL-Bloomington  0.000000   \n",
       "9   Female    45-54  US-NORTHEAST-PA-Lock Haven  1.117327   \n",
       "\n",
       "                    Question #1 Answer  Response Time #1 (ms)     region etat  \n",
       "1        I continue to commute to work                  22582      SOUTH   AL  \n",
       "3        I continue to commute to work                  20659      SOUTH   TN  \n",
       "4  Used to work from home and still do                  32449      SOUTH   TX  \n",
       "8  Used to commute, now work from home                  13310    MIDWEST   IL  \n",
       "9        I continue to commute to work                  21037  NORTHEAST   PA  "
      ]
     },
     "execution_count": 15,
     "metadata": {},
     "output_type": "execute_result"
    }
   ],
   "source": [
    "gcs_df.head()"
   ]
  },
  {
   "cell_type": "code",
   "execution_count": 16,
   "metadata": {},
   "outputs": [],
   "source": [
    "#cols_to_fix = [\"Gender\", \"Age\", \"Geography\"]"
   ]
  },
  {
   "cell_type": "code",
   "execution_count": 17,
   "metadata": {},
   "outputs": [],
   "source": [
    "#def replaceUknown(df, cols):\n",
    "#    for col in cols:\n",
    "#        col_without_uk = df[df[col] != 'Unknown']\n",
    "#        mode_ = col_without_uk[col].mode().values[0]\n",
    "#        df[col].str.replace('Unknown', mode_)\n",
    "#    return df"
   ]
  },
  {
   "cell_type": "code",
   "execution_count": 18,
   "metadata": {},
   "outputs": [],
   "source": [
    "#{#gcs_df = replaceUknown(gcs_df, cols_to_fix)"
   ]
  },
  {
   "cell_type": "markdown",
   "metadata": {},
   "source": [
    "## Répartition des réponses aux questions"
   ]
  },
  {
   "cell_type": "code",
   "execution_count": 19,
   "metadata": {},
   "outputs": [],
   "source": [
    "def map_region(geo):\n",
    "    if geo != 'Unknown':\n",
    "        geo = geo.split('-')[1]\n",
    "    \n",
    "    return geo"
   ]
  },
  {
   "cell_type": "code",
   "execution_count": 20,
   "metadata": {},
   "outputs": [],
   "source": [
    "gcs_df = gcs_df[gcs_df['Geography']!= \"Unknown\"]"
   ]
  },
  {
   "cell_type": "code",
   "execution_count": 21,
   "metadata": {},
   "outputs": [],
   "source": [
    "gcs_df['Geography'] = gcs_df['Geography'].apply(map_region)"
   ]
  },
  {
   "cell_type": "code",
   "execution_count": 22,
   "metadata": {},
   "outputs": [
    {
     "data": {
      "text/plain": [
       "SOUTH        5235\n",
       "MIDWEST      4132\n",
       "WEST         2630\n",
       "NORTHEAST    2174\n",
       "Name: Geography, dtype: int64"
      ]
     },
     "execution_count": 22,
     "metadata": {},
     "output_type": "execute_result"
    }
   ],
   "source": [
    "gcs_df['Geography'].value_counts()"
   ]
  },
  {
   "cell_type": "code",
   "execution_count": 23,
   "metadata": {},
   "outputs": [
    {
     "data": {
      "text/html": [
       "<div>\n",
       "<style scoped>\n",
       "    .dataframe tbody tr th:only-of-type {\n",
       "        vertical-align: middle;\n",
       "    }\n",
       "\n",
       "    .dataframe tbody tr th {\n",
       "        vertical-align: top;\n",
       "    }\n",
       "\n",
       "    .dataframe thead th {\n",
       "        text-align: right;\n",
       "    }\n",
       "</style>\n",
       "<table border=\"1\" class=\"dataframe\">\n",
       "  <thead>\n",
       "    <tr style=\"text-align: right;\">\n",
       "      <th></th>\n",
       "      <th></th>\n",
       "      <th>User ID</th>\n",
       "      <th>Time (UTC)</th>\n",
       "      <th>Survey Completion</th>\n",
       "      <th>Publisher Category</th>\n",
       "      <th>Gender</th>\n",
       "      <th>Age</th>\n",
       "      <th>Weight</th>\n",
       "      <th>Response Time #1 (ms)</th>\n",
       "      <th>region</th>\n",
       "      <th>etat</th>\n",
       "    </tr>\n",
       "    <tr>\n",
       "      <th>Question #1 Answer</th>\n",
       "      <th>Geography</th>\n",
       "      <th></th>\n",
       "      <th></th>\n",
       "      <th></th>\n",
       "      <th></th>\n",
       "      <th></th>\n",
       "      <th></th>\n",
       "      <th></th>\n",
       "      <th></th>\n",
       "      <th></th>\n",
       "      <th></th>\n",
       "    </tr>\n",
       "  </thead>\n",
       "  <tbody>\n",
       "    <tr>\n",
       "      <th rowspan=\"4\" valign=\"top\">I continue to commute to work</th>\n",
       "      <th>MIDWEST</th>\n",
       "      <td>1602</td>\n",
       "      <td>1602</td>\n",
       "      <td>1602</td>\n",
       "      <td>1602</td>\n",
       "      <td>1602</td>\n",
       "      <td>1602</td>\n",
       "      <td>1602</td>\n",
       "      <td>1602</td>\n",
       "      <td>1602</td>\n",
       "      <td>1602</td>\n",
       "    </tr>\n",
       "    <tr>\n",
       "      <th>NORTHEAST</th>\n",
       "      <td>710</td>\n",
       "      <td>710</td>\n",
       "      <td>710</td>\n",
       "      <td>710</td>\n",
       "      <td>710</td>\n",
       "      <td>710</td>\n",
       "      <td>710</td>\n",
       "      <td>710</td>\n",
       "      <td>710</td>\n",
       "      <td>710</td>\n",
       "    </tr>\n",
       "    <tr>\n",
       "      <th>SOUTH</th>\n",
       "      <td>2142</td>\n",
       "      <td>2142</td>\n",
       "      <td>2142</td>\n",
       "      <td>2142</td>\n",
       "      <td>2142</td>\n",
       "      <td>2142</td>\n",
       "      <td>2142</td>\n",
       "      <td>2142</td>\n",
       "      <td>2142</td>\n",
       "      <td>2142</td>\n",
       "    </tr>\n",
       "    <tr>\n",
       "      <th>WEST</th>\n",
       "      <td>869</td>\n",
       "      <td>869</td>\n",
       "      <td>869</td>\n",
       "      <td>869</td>\n",
       "      <td>869</td>\n",
       "      <td>869</td>\n",
       "      <td>869</td>\n",
       "      <td>869</td>\n",
       "      <td>869</td>\n",
       "      <td>869</td>\n",
       "    </tr>\n",
       "    <tr>\n",
       "      <th rowspan=\"4\" valign=\"top\">I have recently been furloughed or laid-off</th>\n",
       "      <th>MIDWEST</th>\n",
       "      <td>501</td>\n",
       "      <td>501</td>\n",
       "      <td>501</td>\n",
       "      <td>501</td>\n",
       "      <td>501</td>\n",
       "      <td>501</td>\n",
       "      <td>501</td>\n",
       "      <td>501</td>\n",
       "      <td>501</td>\n",
       "      <td>501</td>\n",
       "    </tr>\n",
       "    <tr>\n",
       "      <th>NORTHEAST</th>\n",
       "      <td>277</td>\n",
       "      <td>277</td>\n",
       "      <td>277</td>\n",
       "      <td>277</td>\n",
       "      <td>277</td>\n",
       "      <td>277</td>\n",
       "      <td>277</td>\n",
       "      <td>277</td>\n",
       "      <td>277</td>\n",
       "      <td>277</td>\n",
       "    </tr>\n",
       "    <tr>\n",
       "      <th>SOUTH</th>\n",
       "      <td>530</td>\n",
       "      <td>530</td>\n",
       "      <td>530</td>\n",
       "      <td>530</td>\n",
       "      <td>530</td>\n",
       "      <td>530</td>\n",
       "      <td>530</td>\n",
       "      <td>530</td>\n",
       "      <td>530</td>\n",
       "      <td>530</td>\n",
       "    </tr>\n",
       "    <tr>\n",
       "      <th>WEST</th>\n",
       "      <td>359</td>\n",
       "      <td>359</td>\n",
       "      <td>359</td>\n",
       "      <td>359</td>\n",
       "      <td>359</td>\n",
       "      <td>359</td>\n",
       "      <td>359</td>\n",
       "      <td>359</td>\n",
       "      <td>359</td>\n",
       "      <td>359</td>\n",
       "    </tr>\n",
       "    <tr>\n",
       "      <th rowspan=\"4\" valign=\"top\">Used to commute, now work from home</th>\n",
       "      <th>MIDWEST</th>\n",
       "      <td>1443</td>\n",
       "      <td>1443</td>\n",
       "      <td>1443</td>\n",
       "      <td>1443</td>\n",
       "      <td>1443</td>\n",
       "      <td>1443</td>\n",
       "      <td>1443</td>\n",
       "      <td>1443</td>\n",
       "      <td>1443</td>\n",
       "      <td>1443</td>\n",
       "    </tr>\n",
       "    <tr>\n",
       "      <th>NORTHEAST</th>\n",
       "      <td>850</td>\n",
       "      <td>850</td>\n",
       "      <td>850</td>\n",
       "      <td>850</td>\n",
       "      <td>850</td>\n",
       "      <td>850</td>\n",
       "      <td>850</td>\n",
       "      <td>850</td>\n",
       "      <td>850</td>\n",
       "      <td>850</td>\n",
       "    </tr>\n",
       "    <tr>\n",
       "      <th>SOUTH</th>\n",
       "      <td>1673</td>\n",
       "      <td>1673</td>\n",
       "      <td>1673</td>\n",
       "      <td>1673</td>\n",
       "      <td>1673</td>\n",
       "      <td>1673</td>\n",
       "      <td>1673</td>\n",
       "      <td>1673</td>\n",
       "      <td>1673</td>\n",
       "      <td>1673</td>\n",
       "    </tr>\n",
       "    <tr>\n",
       "      <th>WEST</th>\n",
       "      <td>866</td>\n",
       "      <td>866</td>\n",
       "      <td>866</td>\n",
       "      <td>866</td>\n",
       "      <td>866</td>\n",
       "      <td>866</td>\n",
       "      <td>866</td>\n",
       "      <td>866</td>\n",
       "      <td>866</td>\n",
       "      <td>866</td>\n",
       "    </tr>\n",
       "    <tr>\n",
       "      <th rowspan=\"4\" valign=\"top\">Used to work from home and still do</th>\n",
       "      <th>MIDWEST</th>\n",
       "      <td>520</td>\n",
       "      <td>520</td>\n",
       "      <td>520</td>\n",
       "      <td>520</td>\n",
       "      <td>520</td>\n",
       "      <td>520</td>\n",
       "      <td>520</td>\n",
       "      <td>520</td>\n",
       "      <td>520</td>\n",
       "      <td>520</td>\n",
       "    </tr>\n",
       "    <tr>\n",
       "      <th>NORTHEAST</th>\n",
       "      <td>294</td>\n",
       "      <td>294</td>\n",
       "      <td>294</td>\n",
       "      <td>294</td>\n",
       "      <td>294</td>\n",
       "      <td>294</td>\n",
       "      <td>294</td>\n",
       "      <td>294</td>\n",
       "      <td>294</td>\n",
       "      <td>294</td>\n",
       "    </tr>\n",
       "    <tr>\n",
       "      <th>SOUTH</th>\n",
       "      <td>782</td>\n",
       "      <td>782</td>\n",
       "      <td>782</td>\n",
       "      <td>782</td>\n",
       "      <td>782</td>\n",
       "      <td>782</td>\n",
       "      <td>782</td>\n",
       "      <td>782</td>\n",
       "      <td>782</td>\n",
       "      <td>782</td>\n",
       "    </tr>\n",
       "    <tr>\n",
       "      <th>WEST</th>\n",
       "      <td>475</td>\n",
       "      <td>475</td>\n",
       "      <td>475</td>\n",
       "      <td>475</td>\n",
       "      <td>475</td>\n",
       "      <td>475</td>\n",
       "      <td>475</td>\n",
       "      <td>475</td>\n",
       "      <td>475</td>\n",
       "      <td>475</td>\n",
       "    </tr>\n",
       "    <tr>\n",
       "      <th rowspan=\"4\" valign=\"top\">Used to work from home, but now I commute</th>\n",
       "      <th>MIDWEST</th>\n",
       "      <td>66</td>\n",
       "      <td>66</td>\n",
       "      <td>66</td>\n",
       "      <td>66</td>\n",
       "      <td>66</td>\n",
       "      <td>66</td>\n",
       "      <td>66</td>\n",
       "      <td>66</td>\n",
       "      <td>66</td>\n",
       "      <td>66</td>\n",
       "    </tr>\n",
       "    <tr>\n",
       "      <th>NORTHEAST</th>\n",
       "      <td>43</td>\n",
       "      <td>43</td>\n",
       "      <td>43</td>\n",
       "      <td>43</td>\n",
       "      <td>43</td>\n",
       "      <td>43</td>\n",
       "      <td>43</td>\n",
       "      <td>43</td>\n",
       "      <td>43</td>\n",
       "      <td>43</td>\n",
       "    </tr>\n",
       "    <tr>\n",
       "      <th>SOUTH</th>\n",
       "      <td>108</td>\n",
       "      <td>108</td>\n",
       "      <td>108</td>\n",
       "      <td>108</td>\n",
       "      <td>108</td>\n",
       "      <td>108</td>\n",
       "      <td>108</td>\n",
       "      <td>108</td>\n",
       "      <td>108</td>\n",
       "      <td>108</td>\n",
       "    </tr>\n",
       "    <tr>\n",
       "      <th>WEST</th>\n",
       "      <td>61</td>\n",
       "      <td>61</td>\n",
       "      <td>61</td>\n",
       "      <td>61</td>\n",
       "      <td>61</td>\n",
       "      <td>61</td>\n",
       "      <td>61</td>\n",
       "      <td>61</td>\n",
       "      <td>61</td>\n",
       "      <td>61</td>\n",
       "    </tr>\n",
       "  </tbody>\n",
       "</table>\n",
       "</div>"
      ],
      "text/plain": [
       "                                                       User ID  Time (UTC)  \\\n",
       "Question #1 Answer                          Geography                        \n",
       "I continue to commute to work               MIDWEST       1602        1602   \n",
       "                                            NORTHEAST      710         710   \n",
       "                                            SOUTH         2142        2142   \n",
       "                                            WEST           869         869   \n",
       "I have recently been furloughed or laid-off MIDWEST        501         501   \n",
       "                                            NORTHEAST      277         277   \n",
       "                                            SOUTH          530         530   \n",
       "                                            WEST           359         359   \n",
       "Used to commute, now work from home         MIDWEST       1443        1443   \n",
       "                                            NORTHEAST      850         850   \n",
       "                                            SOUTH         1673        1673   \n",
       "                                            WEST           866         866   \n",
       "Used to work from home and still do         MIDWEST        520         520   \n",
       "                                            NORTHEAST      294         294   \n",
       "                                            SOUTH          782         782   \n",
       "                                            WEST           475         475   \n",
       "Used to work from home, but now I commute   MIDWEST         66          66   \n",
       "                                            NORTHEAST       43          43   \n",
       "                                            SOUTH          108         108   \n",
       "                                            WEST            61          61   \n",
       "\n",
       "                                                       Survey Completion  \\\n",
       "Question #1 Answer                          Geography                      \n",
       "I continue to commute to work               MIDWEST                 1602   \n",
       "                                            NORTHEAST                710   \n",
       "                                            SOUTH                   2142   \n",
       "                                            WEST                     869   \n",
       "I have recently been furloughed or laid-off MIDWEST                  501   \n",
       "                                            NORTHEAST                277   \n",
       "                                            SOUTH                    530   \n",
       "                                            WEST                     359   \n",
       "Used to commute, now work from home         MIDWEST                 1443   \n",
       "                                            NORTHEAST                850   \n",
       "                                            SOUTH                   1673   \n",
       "                                            WEST                     866   \n",
       "Used to work from home and still do         MIDWEST                  520   \n",
       "                                            NORTHEAST                294   \n",
       "                                            SOUTH                    782   \n",
       "                                            WEST                     475   \n",
       "Used to work from home, but now I commute   MIDWEST                   66   \n",
       "                                            NORTHEAST                 43   \n",
       "                                            SOUTH                    108   \n",
       "                                            WEST                      61   \n",
       "\n",
       "                                                       Publisher Category  \\\n",
       "Question #1 Answer                          Geography                       \n",
       "I continue to commute to work               MIDWEST                  1602   \n",
       "                                            NORTHEAST                 710   \n",
       "                                            SOUTH                    2142   \n",
       "                                            WEST                      869   \n",
       "I have recently been furloughed or laid-off MIDWEST                   501   \n",
       "                                            NORTHEAST                 277   \n",
       "                                            SOUTH                     530   \n",
       "                                            WEST                      359   \n",
       "Used to commute, now work from home         MIDWEST                  1443   \n",
       "                                            NORTHEAST                 850   \n",
       "                                            SOUTH                    1673   \n",
       "                                            WEST                      866   \n",
       "Used to work from home and still do         MIDWEST                   520   \n",
       "                                            NORTHEAST                 294   \n",
       "                                            SOUTH                     782   \n",
       "                                            WEST                      475   \n",
       "Used to work from home, but now I commute   MIDWEST                    66   \n",
       "                                            NORTHEAST                  43   \n",
       "                                            SOUTH                     108   \n",
       "                                            WEST                       61   \n",
       "\n",
       "                                                       Gender   Age  Weight  \\\n",
       "Question #1 Answer                          Geography                         \n",
       "I continue to commute to work               MIDWEST      1602  1602    1602   \n",
       "                                            NORTHEAST     710   710     710   \n",
       "                                            SOUTH        2142  2142    2142   \n",
       "                                            WEST          869   869     869   \n",
       "I have recently been furloughed or laid-off MIDWEST       501   501     501   \n",
       "                                            NORTHEAST     277   277     277   \n",
       "                                            SOUTH         530   530     530   \n",
       "                                            WEST          359   359     359   \n",
       "Used to commute, now work from home         MIDWEST      1443  1443    1443   \n",
       "                                            NORTHEAST     850   850     850   \n",
       "                                            SOUTH        1673  1673    1673   \n",
       "                                            WEST          866   866     866   \n",
       "Used to work from home and still do         MIDWEST       520   520     520   \n",
       "                                            NORTHEAST     294   294     294   \n",
       "                                            SOUTH         782   782     782   \n",
       "                                            WEST          475   475     475   \n",
       "Used to work from home, but now I commute   MIDWEST        66    66      66   \n",
       "                                            NORTHEAST      43    43      43   \n",
       "                                            SOUTH         108   108     108   \n",
       "                                            WEST           61    61      61   \n",
       "\n",
       "                                                       Response Time #1 (ms)  \\\n",
       "Question #1 Answer                          Geography                          \n",
       "I continue to commute to work               MIDWEST                     1602   \n",
       "                                            NORTHEAST                    710   \n",
       "                                            SOUTH                       2142   \n",
       "                                            WEST                         869   \n",
       "I have recently been furloughed or laid-off MIDWEST                      501   \n",
       "                                            NORTHEAST                    277   \n",
       "                                            SOUTH                        530   \n",
       "                                            WEST                         359   \n",
       "Used to commute, now work from home         MIDWEST                     1443   \n",
       "                                            NORTHEAST                    850   \n",
       "                                            SOUTH                       1673   \n",
       "                                            WEST                         866   \n",
       "Used to work from home and still do         MIDWEST                      520   \n",
       "                                            NORTHEAST                    294   \n",
       "                                            SOUTH                        782   \n",
       "                                            WEST                         475   \n",
       "Used to work from home, but now I commute   MIDWEST                       66   \n",
       "                                            NORTHEAST                     43   \n",
       "                                            SOUTH                        108   \n",
       "                                            WEST                          61   \n",
       "\n",
       "                                                       region  etat  \n",
       "Question #1 Answer                          Geography                \n",
       "I continue to commute to work               MIDWEST      1602  1602  \n",
       "                                            NORTHEAST     710   710  \n",
       "                                            SOUTH        2142  2142  \n",
       "                                            WEST          869   869  \n",
       "I have recently been furloughed or laid-off MIDWEST       501   501  \n",
       "                                            NORTHEAST     277   277  \n",
       "                                            SOUTH         530   530  \n",
       "                                            WEST          359   359  \n",
       "Used to commute, now work from home         MIDWEST      1443  1443  \n",
       "                                            NORTHEAST     850   850  \n",
       "                                            SOUTH        1673  1673  \n",
       "                                            WEST          866   866  \n",
       "Used to work from home and still do         MIDWEST       520   520  \n",
       "                                            NORTHEAST     294   294  \n",
       "                                            SOUTH         782   782  \n",
       "                                            WEST          475   475  \n",
       "Used to work from home, but now I commute   MIDWEST        66    66  \n",
       "                                            NORTHEAST      43    43  \n",
       "                                            SOUTH         108   108  \n",
       "                                            WEST           61    61  "
      ]
     },
     "execution_count": 23,
     "metadata": {},
     "output_type": "execute_result"
    }
   ],
   "source": [
    "gcs_df.groupby([\"Question #1 Answer\", 'Geography']).count()"
   ]
  },
  {
   "cell_type": "code",
   "execution_count": null,
   "metadata": {},
   "outputs": [],
   "source": []
  },
  {
   "cell_type": "code",
   "execution_count": 24,
   "metadata": {},
   "outputs": [
    {
     "data": {
      "text/plain": [
       "<matplotlib.axes._subplots.AxesSubplot at 0x7f6fa23ddad0>"
      ]
     },
     "execution_count": 24,
     "metadata": {},
     "output_type": "execute_result"
    },
    {
     "data": {
      "image/png": "[encoded data removed]",
      "text/plain": [
       "<Figure size 432x288 with 1 Axes>"
      ]
     },
     "metadata": {
      "needs_background": "light"
     },
     "output_type": "display_data"
    }
   ],
   "source": [
    "gcs_df['Question #1 Answer'].value_counts(normalize=True, ascending=True).plot.barh()"
   ]
  },
  {
   "cell_type": "code",
   "execution_count": 25,
   "metadata": {},
   "outputs": [
    {
     "data": {
      "text/plain": [
       "TX    743\n",
       "IL    699\n",
       "NC    690\n",
       "VA    680\n",
       "FL    629\n",
       "OH    621\n",
       "PA    620\n",
       "MO    587\n",
       "NY    582\n",
       "CA    544\n",
       "WI    527\n",
       "GA    526\n",
       "CO    518\n",
       "MN    356\n",
       "AL    348\n",
       "MI    316\n",
       "NJ    314\n",
       "IN    313\n",
       "IA    267\n",
       "TN    263\n",
       "AZ    259\n",
       "WA    235\n",
       "MA    232\n",
       "UT    223\n",
       "MS    222\n",
       "OK    208\n",
       "NE    205\n",
       "SC    203\n",
       "CT    203\n",
       "OR    182\n",
       "NM    180\n",
       "MD    154\n",
       "LA    152\n",
       "NV    147\n",
       "KY    139\n",
       "ME    133\n",
       "ID    128\n",
       "KS     99\n",
       "MT     90\n",
       "ND     80\n",
       "WV     77\n",
       "DE     74\n",
       "AR     71\n",
       "HI     67\n",
       "SD     62\n",
       "DC     56\n",
       "RI     40\n",
       "AK     30\n",
       "NH     28\n",
       "WY     27\n",
       "VT     22\n",
       "Name: etat, dtype: int64"
      ]
     },
     "execution_count": 25,
     "metadata": {},
     "output_type": "execute_result"
    }
   ],
   "source": [
    "gcs_df['etat'].value_counts()"
   ]
  },
  {
   "cell_type": "code",
   "execution_count": null,
   "metadata": {},
   "outputs": [],
   "source": []
  },
  {
   "cell_type": "markdown",
   "metadata": {},
   "source": [
    "Aux USA prés de 2% ont répondu ne plus travaillé chez eux (Used to work from home, but now I commute),  15% faisait du télétravail et continue de le faire, prés de 34%  ont opté pour le télétravrail alors qu'ils se déplacaient au boulot. 37 % disent qu'ils continuent d'aller au boulot. 11% ont perdu leur boulot"
   ]
  },
  {
   "cell_type": "code",
   "execution_count": 26,
   "metadata": {},
   "outputs": [],
   "source": [
    "#dd = pd.read_csv(\"https://raw.githubusercontent.com/johnjosephhorton/remote_work/master/etl/gcs-apr5.csv\")"
   ]
  },
  {
   "cell_type": "code",
   "execution_count": 27,
   "metadata": {},
   "outputs": [],
   "source": [
    "ddf = gcs_df[gcs_df[\"Question #1 Answer\"] == \"Used to commute, now work from home\"]"
   ]
  },
  {
   "cell_type": "code",
   "execution_count": 28,
   "metadata": {},
   "outputs": [],
   "source": [
    "mean_weight = ddf.groupby(['region']).mean()['Weight']\n"
   ]
  },
  {
   "cell_type": "code",
   "execution_count": 29,
   "metadata": {},
   "outputs": [
    {
     "data": {
      "text/plain": [
       "region\n",
       "MIDWEST      0.632094\n",
       "NORTHEAST    0.973722\n",
       "SOUTH        0.829159\n",
       "WEST         1.064526\n",
       "Name: Weight, dtype: float64"
      ]
     },
     "execution_count": 29,
     "metadata": {},
     "output_type": "execute_result"
    }
   ],
   "source": [
    "mean_weight"
   ]
  },
  {
   "cell_type": "code",
   "execution_count": 30,
   "metadata": {},
   "outputs": [
    {
     "data": {
      "text/plain": [
       "SOUTH        1673\n",
       "MIDWEST      1443\n",
       "WEST          866\n",
       "NORTHEAST     850\n",
       "Name: region, dtype: int64"
      ]
     },
     "execution_count": 30,
     "metadata": {},
     "output_type": "execute_result"
    }
   ],
   "source": [
    "ddf['region'].value_counts()"
   ]
  },
  {
   "cell_type": "code",
   "execution_count": 31,
   "metadata": {},
   "outputs": [
    {
     "data": {
      "text/html": [
       "<table class=\"simpletable\">\n",
       "<caption>Multiple Comparison of Means - Tukey HSD, FWER=0.05</caption>\n",
       "<tr>\n",
       "                    <th>group1</th>                                      <th>group2</th>                    <th>meandiff</th>  <th>p-adj</th>  <th>lower</th>   <th>upper</th>  <th>reject</th>\n",
       "</tr>\n",
       "<tr>\n",
       "         <td>I continue to commute to work</td>        <td>I have recently been furloughed or laid-off</td>  <td>0.0054</td>    <td>0.9</td>  <td>-0.0302</td> <td>0.0409</td>   <td>False</td>\n",
       "</tr>\n",
       "<tr>\n",
       "         <td>I continue to commute to work</td>            <td>Used to commute, now work from home</td>      <td>0.0185</td>  <td>0.2613</td> <td>-0.0066</td> <td>0.0437</td>   <td>False</td>\n",
       "</tr>\n",
       "<tr>\n",
       "         <td>I continue to commute to work</td>            <td>Used to work from home and still do</td>      <td>-0.0339</td> <td>0.0387</td> <td>-0.0667</td> <td>-0.0011</td>  <td>True</td> \n",
       "</tr>\n",
       "<tr>\n",
       "         <td>I continue to commute to work</td>         <td>Used to work from home, but now I commute</td>   <td>-0.0474</td> <td>0.4595</td> <td>-0.1253</td> <td>0.0304</td>   <td>False</td>\n",
       "</tr>\n",
       "<tr>\n",
       "  <td>I have recently been furloughed or laid-off</td>     <td>Used to commute, now work from home</td>      <td>0.0132</td>   <td>0.839</td> <td>-0.0228</td> <td>0.0491</td>   <td>False</td>\n",
       "</tr>\n",
       "<tr>\n",
       "  <td>I have recently been furloughed or laid-off</td>     <td>Used to work from home and still do</td>      <td>-0.0393</td>  <td>0.076</td> <td>-0.0809</td> <td>0.0024</td>   <td>False</td>\n",
       "</tr>\n",
       "<tr>\n",
       "  <td>I have recently been furloughed or laid-off</td>  <td>Used to work from home, but now I commute</td>   <td>-0.0528</td> <td>0.4008</td> <td>-0.1348</td> <td>0.0292</td>   <td>False</td>\n",
       "</tr>\n",
       "<tr>\n",
       "      <td>Used to commute, now work from home</td>         <td>Used to work from home and still do</td>      <td>-0.0524</td>  <td>0.001</td> <td>-0.0857</td> <td>-0.0192</td>  <td>True</td> \n",
       "</tr>\n",
       "<tr>\n",
       "      <td>Used to commute, now work from home</td>      <td>Used to work from home, but now I commute</td>   <td>-0.0659</td> <td>0.1432</td> <td>-0.144</td>  <td>0.0121</td>   <td>False</td>\n",
       "</tr>\n",
       "<tr>\n",
       "      <td>Used to work from home and still do</td>      <td>Used to work from home, but now I commute</td>   <td>-0.0135</td>   <td>0.9</td>  <td>-0.0944</td> <td>0.0673</td>   <td>False</td>\n",
       "</tr>\n",
       "</table>"
      ],
      "text/plain": [
       "<class 'statsmodels.iolib.table.SimpleTable'>"
      ]
     },
     "execution_count": 31,
     "metadata": {},
     "output_type": "execute_result"
    }
   ],
   "source": [
    "import statsmodels.stats.multicomp as mc\n",
    "\n",
    "comp = mc.MultiComparison(gcs_df['Weight'], gcs_df['Question #1 Answer'])\n",
    "post_hoc_res = comp.tukeyhsd()\n",
    "post_hoc_res.summary()"
   ]
  },
  {
   "cell_type": "code",
   "execution_count": null,
   "metadata": {},
   "outputs": [],
   "source": []
  },
  {
   "cell_type": "markdown",
   "metadata": {},
   "source": [
    "### Analyse des données par région"
   ]
  },
  {
   "cell_type": "code",
   "execution_count": 32,
   "metadata": {},
   "outputs": [],
   "source": [
    "#from plotnine import *"
   ]
  },
  {
   "cell_type": "code",
   "execution_count": 33,
   "metadata": {},
   "outputs": [
    {
     "name": "stdout",
     "output_type": "stream",
     "text": [
      "Requirement already satisfied: plotnine[all] in /opt/conda/lib/python3.7/site-packages (0.7.0)\n",
      "Requirement already satisfied: statsmodels>=0.11.1 in /opt/conda/lib/python3.7/site-packages (from plotnine[all]) (0.11.1)\n",
      "Requirement already satisfied: pandas>=1.0.3 in /opt/conda/lib/python3.7/site-packages (from plotnine[all]) (1.0.3)\n",
      "Requirement already satisfied: scipy>=1.2.0 in /opt/conda/lib/python3.7/site-packages (from plotnine[all]) (1.4.1)\n",
      "Requirement already satisfied: descartes>=1.1.0 in /opt/conda/lib/python3.7/site-packages (from plotnine[all]) (1.1.0)\n",
      "Requirement already satisfied: patsy>=0.5.1 in /opt/conda/lib/python3.7/site-packages (from plotnine[all]) (0.5.1)\n",
      "Requirement already satisfied: mizani>=0.7.1 in /opt/conda/lib/python3.7/site-packages (from plotnine[all]) (0.7.1)\n",
      "Requirement already satisfied: matplotlib>=3.1.1 in /opt/conda/lib/python3.7/site-packages (from plotnine[all]) (3.2.1)\n",
      "Requirement already satisfied: numpy>=1.16.0 in /opt/conda/lib/python3.7/site-packages (from plotnine[all]) (1.18.1)\n",
      "Requirement already satisfied: scikit-misc; extra == \"all\" in /opt/conda/lib/python3.7/site-packages (from plotnine[all]) (0.1.3)\n",
      "Requirement already satisfied: scikit-learn; extra == \"all\" in /opt/conda/lib/python3.7/site-packages (from plotnine[all]) (0.22.2.post1)\n",
      "Requirement already satisfied: pytz>=2017.2 in /opt/conda/lib/python3.7/site-packages (from pandas>=1.0.3->plotnine[all]) (2019.3)\n",
      "Requirement already satisfied: python-dateutil>=2.6.1 in /opt/conda/lib/python3.7/site-packages (from pandas>=1.0.3->plotnine[all]) (2.8.1)\n",
      "Requirement already satisfied: six in /opt/conda/lib/python3.7/site-packages (from patsy>=0.5.1->plotnine[all]) (1.14.0)\n",
      "Requirement already satisfied: palettable in /opt/conda/lib/python3.7/site-packages (from mizani>=0.7.1->plotnine[all]) (3.3.0)\n",
      "Requirement already satisfied: pyparsing!=2.0.4,!=2.1.2,!=2.1.6,>=2.0.1 in /opt/conda/lib/python3.7/site-packages (from matplotlib>=3.1.1->plotnine[all]) (2.4.7)\n",
      "Requirement already satisfied: cycler>=0.10 in /opt/conda/lib/python3.7/site-packages (from matplotlib>=3.1.1->plotnine[all]) (0.10.0)\n",
      "Requirement already satisfied: kiwisolver>=1.0.1 in /opt/conda/lib/python3.7/site-packages (from matplotlib>=3.1.1->plotnine[all]) (1.2.0)\n",
      "Requirement already satisfied: joblib>=0.11 in /opt/conda/lib/python3.7/site-packages (from scikit-learn; extra == \"all\"->plotnine[all]) (0.14.1)\n"
     ]
    }
   ],
   "source": [
    "!pip install 'plotnine[all]'"
   ]
  },
  {
   "cell_type": "code",
   "execution_count": 34,
   "metadata": {},
   "outputs": [],
   "source": [
    "def repartitionPerResponse(dafarame):\n",
    "    \n",
    "\n",
    "    df = dafarame.copy()\n",
    "    df[\"Question #1 Answer\"] = df[\"Question #1 Answer\"].astype(str)\n",
    "    \n",
    "    continue_commit_work_df = df[df[\"Question #1 Answer\"] == \"I continue to commute to work\"]\n",
    "    recently_laid_off_df =  df[df[\"Question #1 Answer\"] == \"I have recently been furloughed or laid-off\"]\n",
    "    use_to_commute_work_home_df = df[df[\"Question #1 Answer\"] == \"Used to commute, now work from home\"]\n",
    "    use_to_work_home_still_do_df = df[df[\"Question #1 Answer\"] == \"Used to work from home and still do\"]\n",
    "    \n",
    "    f, axes = plt.subplots(2, 2, figsize=(12, 10), sharex=True, sharey=True)\n",
    "    #axis = axes.flatten()\n",
    "    \n",
    "    continue_commit_work_df['region'].value_counts(normalize=True, ascending=False).plot.bar(ax=axes[0, 0])\n",
    "    axes[0, 0].set_title(\"I continue to\\n commute to work\", y=1.05, fontsize=12)\n",
    "\n",
    "    \n",
    "    recently_laid_off_df['region'].value_counts(normalize=True, ascending=False).plot.bar(ax=axes[0, 1])\n",
    "    axes[0, 1].set_title(\"I have recently been\\n furloughed or laid−off\", y=1.05, fontsize=12)\n",
    "\n",
    "    use_to_commute_work_home_df['region'].value_counts(normalize=True, ascending=False).plot.bar(ax=axes[1, 0])\n",
    "    axes[1, 0].set_title(\"Used to commute,\\nnow work from home\", fontsize=12)\n",
    "    \n",
    "    use_to_work_home_still_do_df['region'].value_counts(normalize=True, ascending=False).plot.bar(ax=axes[1, 1])\n",
    "    axes[1, 1].set_title(\"Used to work from home \\nand still do\", fontsize=12)\n",
    "    \n",
    "    f.autofmt_xdate(rotation=45)\n",
    "    plt.show()\n",
    "    \n",
    "    \n",
    "    "
   ]
  },
  {
   "cell_type": "code",
   "execution_count": 35,
   "metadata": {},
   "outputs": [
    {
     "data": {
      "image/png": "[encoded data removed]",
      "text/plain": [
       "<Figure size 864x720 with 4 Axes>"
      ]
     },
     "metadata": {
      "needs_background": "light"
     },
     "output_type": "display_data"
    }
   ],
   "source": [
    "repartitionPerResponse(gcs_df)"
   ]
  },
  {
   "cell_type": "code",
   "execution_count": 36,
   "metadata": {},
   "outputs": [],
   "source": [
    "def repartitionByRegion(dafarame):\n",
    "    \n",
    "\n",
    "    df = dafarame.copy()\n",
    "    df[\"Question #1 Answer\"] = df[\"Question #1 Answer\"].astype(str)\n",
    "    \n",
    "    south_df = df[df[\"region\"] == \"SOUTH\"]\n",
    "    west_df =  df[df[\"region\"] == \"WEST\"]\n",
    "    midwest_df = df[df[\"region\"] == \"MIDWEST\"]\n",
    "    northeast_df = df[df[\"region\"] == \"NORTHEAST\"]\n",
    "    \n",
    "    f, axes = plt.subplots(2, 2, figsize=(12, 10), sharex=True, sharey=True)\n",
    "    #axis = axes.flatten()\n",
    "    \n",
    "    northeast_df[\"Question #1 Answer\"].value_counts(normalize=True, ascending=False).plot.barh(ax=axes[0, 0])\n",
    "    axes[0, 0].set_title(\"NORTHEAST\", y=1.05, fontsize=12)\n",
    "\n",
    "    \n",
    "    midwest_df[\"Question #1 Answer\"].value_counts(normalize=True, ascending=False).plot.barh(ax=axes[0, 1])\n",
    "    axes[0, 1].set_title(\"MIDWEST\", y=1.05, fontsize=12)\n",
    "\n",
    "    west_df[\"Question #1 Answer\"].value_counts(normalize=True, ascending=False).plot.barh(ax=axes[1, 0])\n",
    "    axes[1, 0].set_title(\"WEST\", fontsize=12)\n",
    "    \n",
    "    south_df[\"Question #1 Answer\"].value_counts(normalize=True, ascending=False).plot.barh(ax=axes[1, 1])\n",
    "    axes[1, 1].set_title(\"SOUTH\", fontsize=12)\n",
    "    \n",
    "    f.autofmt_xdate(rotation=45)\n",
    "    plt.show()\n",
    "    "
   ]
  },
  {
   "cell_type": "code",
   "execution_count": 37,
   "metadata": {},
   "outputs": [
    {
     "data": {
      "image/png": "[encoded data removed]",
      "text/plain": [
       "<Figure size 864x720 with 4 Axes>"
      ]
     },
     "metadata": {
      "needs_background": "light"
     },
     "output_type": "display_data"
    }
   ],
   "source": [
    "repartitionByRegion(gcs_df)"
   ]
  },
  {
   "cell_type": "markdown",
   "metadata": {},
   "source": [
    "## Repartition par sexe"
   ]
  },
  {
   "cell_type": "code",
   "execution_count": 38,
   "metadata": {},
   "outputs": [],
   "source": [
    "ccw_df = gcs_df[gcs_df[\"Question #1 Answer\"] == \"I continue to commute to work\"]"
   ]
  },
  {
   "cell_type": "code",
   "execution_count": 39,
   "metadata": {},
   "outputs": [],
   "source": [
    "ccw_df = ccw_df[ccw_df[\"Gender\"]!='Unknown']"
   ]
  },
  {
   "cell_type": "code",
   "execution_count": 40,
   "metadata": {},
   "outputs": [
    {
     "data": {
      "text/plain": [
       "<matplotlib.axes._subplots.AxesSubplot at 0x7f6fbe0bae10>"
      ]
     },
     "execution_count": 40,
     "metadata": {},
     "output_type": "execute_result"
    },
    {
     "data": {
      "image/png": "[encoded data removed]",
      "text/plain": [
       "<Figure size 432x288 with 1 Axes>"
      ]
     },
     "metadata": {},
     "output_type": "display_data"
    }
   ],
   "source": [
    "ccw_df[\"Gender\"].value_counts().plot.pie()"
   ]
  },
  {
   "cell_type": "code",
   "execution_count": 41,
   "metadata": {},
   "outputs": [],
   "source": [
    "def repartitionPerResponse(dafarame):\n",
    "    \n",
    "\n",
    "    df = dafarame.copy()\n",
    "    df[\"Question #1 Answer\"] = df[\"Question #1 Answer\"].astype(str)\n",
    "    \n",
    "    continue_commit_work_df = df[df[\"Question #1 Answer\"] == \"I continue to commute to work\"]\n",
    "    recently_laid_off_df =  df[df[\"Question #1 Answer\"] == \"I have recently been furloughed or laid-off\"]\n",
    "    use_to_commute_work_home_df = df[df[\"Question #1 Answer\"] == \"Used to commute, now work from home\"]\n",
    "    use_to_work_home_still_do_df = df[df[\"Question #1 Answer\"] == \"Used to work from home and still do\"]\n",
    "    \n",
    "    f, axes = plt.subplots(2, 2, figsize=(12, 10), sharex=True, sharey=True)\n",
    "    #axis = axes.flatten()\n",
    "    continue_commit_work_df = continue_commit_work_df[continue_commit_work_df.Gender != \"Unknown\"]\n",
    "    continue_commit_work_df['Gender'].value_counts(normalize=True, ascending=False).plot.pie(ax=axes[0, 0])\n",
    "    axes[0, 0].set_title(\"I continue to\\n commute to work\", y=1.05, fontsize=12)\n",
    "   \n",
    "    recently_laid_off_df = recently_laid_off_df[recently_laid_off_df.Gender != 'Unknown']\n",
    "    recently_laid_off_df['Gender'].value_counts(normalize=True, ascending=False).plot.pie(ax=axes[0, 1])\n",
    "    axes[0, 1].set_title(\"I have recently been\\n furloughed or laid−off\", y=1.05, fontsize=12)\n",
    "    \n",
    "    use_to_commute_work_home_df = use_to_commute_work_home_df[use_to_commute_work_home_df.Gender!=\"Unknown\"]\n",
    "    use_to_commute_work_home_df['Gender'].value_counts(normalize=True, ascending=False).plot.pie(ax=axes[1, 0])\n",
    "    axes[1, 0].set_title(\"Used to commute,\\nnow work from home\", fontsize=12)\n",
    "    \n",
    "    use_to_work_home_still_do_df = use_to_work_home_still_do_df[use_to_work_home_still_do_df.Gender != \"Unknown\"]\n",
    "    use_to_work_home_still_do_df['Gender'].value_counts(normalize=True, ascending=False).plot.pie(ax=axes[1, 1])\n",
    "    axes[1, 1].set_title(\"Used to work from home \\nand still do\", fontsize=12)\n",
    "    \n",
    "    f.autofmt_xdate(rotation=45)\n",
    "    plt.show()\n",
    "    \n",
    "    \n",
    "    "
   ]
  },
  {
   "cell_type": "code",
   "execution_count": 42,
   "metadata": {},
   "outputs": [
    {
     "data": {
      "image/png": "[encoded data removed]",
      "text/plain": [
       "<Figure size 864x720 with 4 Axes>"
      ]
     },
     "metadata": {},
     "output_type": "display_data"
    }
   ],
   "source": [
    "repartitionPerResponse(gcs_df)"
   ]
  },
  {
   "cell_type": "code",
   "execution_count": 43,
   "metadata": {},
   "outputs": [],
   "source": [
    "def repartitionPerAge(dafarame):\n",
    "    \n",
    "\n",
    "    df = dafarame.copy()\n",
    "    df[\"Question #1 Answer\"] = df[\"Question #1 Answer\"].astype(str)\n",
    "    \n",
    "    continue_commit_work_df = df[df[\"Question #1 Answer\"] == \"I continue to commute to work\"]\n",
    "    recently_laid_off_df =  df[df[\"Question #1 Answer\"] == \"I have recently been furloughed or laid-off\"]\n",
    "    use_to_commute_work_home_df = df[df[\"Question #1 Answer\"] == \"Used to commute, now work from home\"]\n",
    "    use_to_work_home_still_do_df = df[df[\"Question #1 Answer\"] == \"Used to work from home and still do\"]\n",
    "    \n",
    "    f, axes = plt.subplots(2, 2, figsize=(12, 10), sharex=True, sharey=True)\n",
    "    #axis = axes.flatten()\n",
    "    continue_commit_work_df = continue_commit_work_df[continue_commit_work_df.Age!= \"Unknown\"]\n",
    "    continue_commit_work_df['Age'].value_counts(normalize=True, ascending=False).plot.bar(ax=axes[0, 0])\n",
    "    #sns.pointplot(x=\"Age\", y=\"Weight\", join=True, data=continue_commit_work_df, ax=axes[0, 0])\n",
    "    axes[0, 0].set_title(\"I continue to\\n commute to work\", y=1.05, fontsize=12)\n",
    "   \n",
    "    recently_laid_off_df = recently_laid_off_df[recently_laid_off_df.Age != 'Unknown']\n",
    "    recently_laid_off_df['Age'].value_counts(normalize=True, ascending=False).plot.bar(ax=axes[0, 1])\n",
    "    axes[0, 1].set_title(\"I have recently been\\n furloughed or laid−off\", y=1.05, fontsize=12)\n",
    "    \n",
    "    use_to_commute_work_home_df = use_to_commute_work_home_df[use_to_commute_work_home_df.Age!=\"Unknown\"]\n",
    "    use_to_commute_work_home_df['Age'].value_counts(normalize=True, ascending=False).plot.bar(ax=axes[1, 0])\n",
    "    axes[1, 0].set_title(\"Used to commute,\\nnow work from home\", fontsize=12)\n",
    "    \n",
    "    use_to_work_home_still_do_df = use_to_work_home_still_do_df[use_to_work_home_still_do_df.Age != \"Unknown\"]\n",
    "    use_to_work_home_still_do_df['Age'].value_counts(normalize=True, ascending=False).plot.bar(ax=axes[1, 1])\n",
    "    axes[1, 1].set_title(\"Used to work from home \\nand still do\", fontsize=12)\n",
    "    \n",
    "    f.autofmt_xdate(rotation=45)\n",
    "    plt.show()\n",
    "    \n",
    "    \n",
    "    "
   ]
  },
  {
   "cell_type": "code",
   "execution_count": 44,
   "metadata": {},
   "outputs": [
    {
     "data": {
      "image/png": "[encoded data removed]",
      "text/plain": [
       "<Figure size 864x720 with 4 Axes>"
      ]
     },
     "metadata": {
      "needs_background": "light"
     },
     "output_type": "display_data"
    }
   ],
   "source": [
    "repartitionPerAge(gcs_df)"
   ]
  },
  {
   "cell_type": "code",
   "execution_count": 45,
   "metadata": {},
   "outputs": [],
   "source": [
    "#gcs_df.head()"
   ]
  },
  {
   "cell_type": "code",
   "execution_count": 46,
   "metadata": {},
   "outputs": [],
   "source": [
    "spark = SparkSession.builder.appName(\"filRouge\").getOrCreate()"
   ]
  },
  {
   "cell_type": "code",
   "execution_count": 47,
   "metadata": {},
   "outputs": [],
   "source": [
    "spark_df = spark.createDataFrame(gcs_df)"
   ]
  },
  {
   "cell_type": "code",
   "execution_count": 48,
   "metadata": {},
   "outputs": [],
   "source": [
    "spark_df.write.option(\"header\", \"true\").option(\"delimiter\", \",\").csv(\"hdfs://172.17.0.3:8020/user/cloudera/filRouge/remote_usa.csv\")"
   ]
  },
  {
   "cell_type": "markdown",
   "metadata": {},
   "source": []
  },
  {
   "cell_type": "code",
   "execution_count": null,
   "metadata": {},
   "outputs": [],
   "source": []
  }
 ],
 "metadata": {
  "kernelspec": {
   "display_name": "Python 3",
   "language": "python",
   "name": "python3"
  },
  "language_info": {
   "codemirror_mode": {
    "name": "ipython",
    "version": 3
   },
   "file_extension": ".py",
   "mimetype": "text/x-python",
   "name": "python",
   "nbconvert_exporter": "python",
   "pygments_lexer": "ipython3",
   "version": "3.7.6"
  }
 },
 "nbformat": 4,
 "nbformat_minor": 4
}
