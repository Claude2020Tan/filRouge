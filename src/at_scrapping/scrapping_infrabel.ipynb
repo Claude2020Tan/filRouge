{
 "cells": [
  {
   "cell_type": "code",
   "execution_count": 322,
   "metadata": {},
   "outputs": [],
   "source": [
    "from bs4 import  BeautifulSoup\n",
    "import requests\n",
    "import csv\n",
    "from io import StringIO\n",
    "import pandas as pd\n",
    "import json\n",
    "import csv\n",
    "import numpy as np\n",
    "import re"
   ]
  },
  {
   "cell_type": "code",
   "execution_count": 323,
   "metadata": {},
   "outputs": [],
   "source": [
    "url=\"http://gps.teletravail.free.fr/BDDaccords/Base-de-donnees-des-accords.htm\""
   ]
  },
  {
   "cell_type": "code",
   "execution_count": 324,
   "metadata": {},
   "outputs": [],
   "source": [
    "req=requests.get(url)\n"
   ]
  },
  {
   "cell_type": "code",
   "execution_count": 325,
   "metadata": {},
   "outputs": [],
   "source": [
    "soup=BeautifulSoup(req.text,'html.parser')\n"
   ]
  },
  {
   "cell_type": "code",
   "execution_count": 495,
   "metadata": {},
   "outputs": [],
   "source": [
    "def find_tables(table):\n",
    "    tables=table.find_all(\"tr\",{\"valign\":\"top\"})\n",
    "    lignes=[]\n",
    "    tds=[th.find_all(\"td\",{\"width\":\"42%\"}) for th in tables]\n",
    "    \n",
    "    for elt in tds:\n",
    "        tdrs=[e.string.replace(' ',\"\").replace('\\n',' ').replace(\"(SSII)\",\"\").replace(\"(\",\"*\").replace(\")\",\"\")+\"*privée\" for e in elt if e.string!=None]\n",
    "        lignes.append(tdrs)\n",
    "    #print(lignes)\n",
    "    return lignes \n",
    " \n",
    "\n",
    "all_tables=soup.find_all(\"table\",{\"border\":\"3\"})"
   ]
  },
  {
   "cell_type": "code",
   "execution_count": 494,
   "metadata": {},
   "outputs": [
    {
     "data": {
      "text/plain": [
       "[['Banque deFrance*23/12/2009'],\n",
       " ['BRGM-Bureau deRecherchesGéologiquesetMinières*20/07/2013'],\n",
       " ['CAF duHautRhin*27/07/2011'],\n",
       " [],\n",
       " ['CPAMHautRhin Pro.Soc.'],\n",
       " ['CDC*Caissedes dépots*18/05/2011'],\n",
       " ['IGN *règlementdu12/03/2010'],\n",
       " [],\n",
       " [],\n",
       " [],\n",
       " ['UGAP*25/06/2010 '],\n",
       " []]"
      ]
     },
     "execution_count": 494,
     "metadata": {},
     "output_type": "execute_result"
    }
   ],
   "source": [
    "\n",
    "find_tables(all_tables[1])"
   ]
  },
  {
   "cell_type": "code",
   "execution_count": 496,
   "metadata": {},
   "outputs": [
    {
     "name": "stdout",
     "output_type": "stream",
     "text": [
      "71 [['Accenture *19/01/2010'], [' AirFrance-*21juillet2009etavenantdu13juillet2010'], ['Air Liquide*14juin2013'], ['Alcatel -Lucent*18/01/2008'], ['Alstom Transport*09/11/2010'], ['ALTRAN Technologies*19/05/2014'], ['AREVA *2012-05-31*AccordsurlaQualitédevie-4pagessurletélétravail'], [' ATOSORIGIN*2010'], ['AUCHAN *20/11/2014'], [], ['Banque Postale*10janvier2014'], [], [], [], ['Cap Gémini*20/07/2011'], ['CASINO Services*15avril2015'], ['CCI FRance/CRCI*7juillet2014'], ['CISCO'], ['Crédit AgricoleSA*16février2012'], ['Danone Alimentaire'], ['Dassault Systèmes*27/04/2007'], ['Dell France*19juillet2012'], ['Dassault Systèmes*27/04/2007'], ['EDF *22/02/2016'], ['Europe Assistance*décembre2011'], ['GDF Suez'], ['GFI UES*9/12/2011'], ['GROUPAMA *Paris-VdL*05/11/2009-accordlimitéàunepériodedepandémie'], [' HewlettPackard*12juillet2010'], ['INVIVO *agriculture-8août2016'], ['KELKOO *17juillet2013:télétravailoccasionnel'], ['KUONIvoyages*TravalLab'], [], [\"L'OREAL*4/12/2008\"], ['LOGICA France*10septembre2010'], ['MACIF *17/12/2010'], ['MEDIANE SYSTEME*19/11/2015'], ['Michelin *12/05/2009'], ['Microsoft *2008'], [' NextiraOne*2009'], ['Norauto Automobile*30/09/2010'], ['OCIRP *1/02/2011'], ['ODIMA *27/04/2011'], [], [], ['PagesJaunes Sa*05/05/2015'], ['PSAPeugeotCitroën *Accorddecompétitivité-Nouveaucontratsocialsignéenoctobre 2013'], ['Relaxnews *finances*13/02/2015'], ['Renault *22janvier2007'], ['SAGE *19/12/2013'], ['SANOFI *8/6/2012'], [], [], ['SFR'], ['SIEMENS*17/15/2013'], ['SNCFVoyages *25mars2015'], ['SNEDA *31/01/2013'], ['SOCIETE GENERALE*16/07/2014'], ['STERIA*13/12/2013'], [\"SYSTRA *bureaud'étude*9mars2015\"], ['TDF *14/11/2012'], [], ['Thales Groupe*26/05/2013'], ['Tockheim Automobile*07/07/2005'], ['TOTAL *5/2/2013+Annexe*13/2/2013'], [\"TURBOMECA*04/12/2012 -Accordsurl'égalitéHommes/Femmes\"], ['VENTE-A-DISTANCE *06/07/2015-Accorddebranche'], ['VEOLIA-EAU*30/11/2006'], ['VEOLIA-TRANSDEV *24/01/2013'], [' VerspierenAssurances*12/07/2006'], [' WoltersKluverFrance*09/04/2015']]\n",
      "71\n"
     ]
    },
    {
     "data": {
      "text/html": [
       "<div>\n",
       "<style scoped>\n",
       "    .dataframe tbody tr th:only-of-type {\n",
       "        vertical-align: middle;\n",
       "    }\n",
       "\n",
       "    .dataframe tbody tr th {\n",
       "        vertical-align: top;\n",
       "    }\n",
       "\n",
       "    .dataframe thead th {\n",
       "        text-align: right;\n",
       "    }\n",
       "</style>\n",
       "<table border=\"1\" class=\"dataframe\">\n",
       "  <thead>\n",
       "    <tr style=\"text-align: right;\">\n",
       "      <th></th>\n",
       "      <th>col</th>\n",
       "    </tr>\n",
       "  </thead>\n",
       "  <tbody>\n",
       "    <tr>\n",
       "      <th>0</th>\n",
       "      <td>Accenture *19/01/2010*privée</td>\n",
       "    </tr>\n",
       "    <tr>\n",
       "      <th>1</th>\n",
       "      <td>AirFrance-*21juillet2009etavenantdu13juillet2...</td>\n",
       "    </tr>\n",
       "    <tr>\n",
       "      <th>2</th>\n",
       "      <td>Air Liquide*14juin2013*privée</td>\n",
       "    </tr>\n",
       "    <tr>\n",
       "      <th>3</th>\n",
       "      <td>Alcatel -Lucent*18/01/2008*privée</td>\n",
       "    </tr>\n",
       "    <tr>\n",
       "      <th>4</th>\n",
       "      <td>Alstom Transport*09/11/2010*privée</td>\n",
       "    </tr>\n",
       "    <tr>\n",
       "      <th>...</th>\n",
       "      <td>...</td>\n",
       "    </tr>\n",
       "    <tr>\n",
       "      <th>56</th>\n",
       "      <td>VENTE-A-DISTANCE *06/07/2015-Accorddebranche*p...</td>\n",
       "    </tr>\n",
       "    <tr>\n",
       "      <th>57</th>\n",
       "      <td>VEOLIA-EAU*30/11/2006*privée</td>\n",
       "    </tr>\n",
       "    <tr>\n",
       "      <th>58</th>\n",
       "      <td>VEOLIA-TRANSDEV *24/01/2013*privée</td>\n",
       "    </tr>\n",
       "    <tr>\n",
       "      <th>59</th>\n",
       "      <td>VerspierenAssurances*12/07/2006*privée</td>\n",
       "    </tr>\n",
       "    <tr>\n",
       "      <th>60</th>\n",
       "      <td>WoltersKluverFrance*09/04/2015*privée</td>\n",
       "    </tr>\n",
       "  </tbody>\n",
       "</table>\n",
       "<p>61 rows × 1 columns</p>\n",
       "</div>"
      ],
      "text/plain": [
       "                                                  col\n",
       "0                        Accenture *19/01/2010*privée\n",
       "1    AirFrance-*21juillet2009etavenantdu13juillet2...\n",
       "2                       Air Liquide*14juin2013*privée\n",
       "3                   Alcatel -Lucent*18/01/2008*privée\n",
       "4                  Alstom Transport*09/11/2010*privée\n",
       "..                                                ...\n",
       "56  VENTE-A-DISTANCE *06/07/2015-Accorddebranche*p...\n",
       "57                       VEOLIA-EAU*30/11/2006*privée\n",
       "58                 VEOLIA-TRANSDEV *24/01/2013*privée\n",
       "59             VerspierenAssurances*12/07/2006*privée\n",
       "60              WoltersKluverFrance*09/04/2015*privée\n",
       "\n",
       "[61 rows x 1 columns]"
      ]
     },
     "execution_count": 496,
     "metadata": {},
     "output_type": "execute_result"
    }
   ],
   "source": [
    "secteur_prive=all_tables[0]\n",
    "list_entr_privees=find_tables(secteur_prive)\n",
    "print(len(test),test)\n",
    "m = np.array(find_tables(secteur_prive))\n",
    "print(len(m))\n",
    "pd.DataFrame({'col':[z[0] for z in m if z!=[]]})\n"
   ]
  },
  {
   "cell_type": "code",
   "execution_count": 501,
   "metadata": {},
   "outputs": [],
   "source": [
    "def save_file_csv(content,name_file):\n",
    "    file=open(name_file,'w')\n",
    "    file_t1=csv.writer(file) \n",
    "    list_content=content\n",
    "    print(list_content)\n",
    "    for index in list_content :\n",
    "        if(index!=[]):\n",
    "            t=tuple(index[0].split(\"*\"))\n",
    "            file_t1.writerow(t)\n",
    "    file.close()"
   ]
  },
  {
   "cell_type": "code",
   "execution_count": 502,
   "metadata": {},
   "outputs": [
    {
     "name": "stdout",
     "output_type": "stream",
     "text": [
      "[['Accenture *19/01/2010*privée'], [' AirFrance-*21juillet2009etavenantdu13juillet2010*privée'], ['Air Liquide*14juin2013*privée'], ['Alcatel -Lucent*18/01/2008*privée'], ['Alstom Transport*09/11/2010*privée'], ['ALTRAN Technologies*19/05/2014*privée'], ['AREVA *2012-05-31*AccordsurlaQualitédevie-4pagessurletélétravail*privée'], [' ATOSORIGIN*2010*privée'], ['AUCHAN *20/11/2014*privée'], [], ['Banque Postale*10janvier2014*privée'], [], [], [], ['Cap Gémini*20/07/2011*privée'], ['CASINO Services*15avril2015*privée'], ['CCI FRance/CRCI*7juillet2014*privée'], ['CISCO*privée'], ['Crédit AgricoleSA*16février2012*privée'], ['Danone Alimentaire*privée'], ['Dassault Systèmes*27/04/2007*privée'], ['Dell France*19juillet2012*privée'], ['Dassault Systèmes*27/04/2007*privée'], ['EDF *22/02/2016*privée'], ['Europe Assistance*décembre2011*privée'], ['GDF Suez*privée'], ['GFI UES*9/12/2011*privée'], ['GROUPAMA *Paris-VdL*05/11/2009-accordlimitéàunepériodedepandémie*privée'], [' HewlettPackard*12juillet2010*privée'], ['INVIVO *agriculture-8août2016*privée'], ['KELKOO *17juillet2013:télétravailoccasionnel*privée'], ['KUONIvoyages*TravalLab*privée'], [], [\"L'OREAL*4/12/2008*privée\"], ['LOGICA France*10septembre2010*privée'], ['MACIF *17/12/2010*privée'], ['MEDIANE SYSTEME*19/11/2015*privée'], ['Michelin *12/05/2009*privée'], ['Microsoft *2008*privée'], [' NextiraOne*2009*privée'], ['Norauto Automobile*30/09/2010*privée'], ['OCIRP *1/02/2011*privée'], ['ODIMA *27/04/2011*privée'], [], [], ['PagesJaunes Sa*05/05/2015*privée'], ['PSAPeugeotCitroën *Accorddecompétitivité-Nouveaucontratsocialsignéenoctobre 2013*privée'], ['Relaxnews *finances*13/02/2015*privée'], ['Renault *22janvier2007*privée'], ['SAGE *19/12/2013*privée'], ['SANOFI *8/6/2012*privée'], [], [], ['SFR*privée'], ['SIEMENS*17/15/2013*privée'], ['SNCFVoyages *25mars2015*privée'], ['SNEDA *31/01/2013*privée'], ['SOCIETE GENERALE*16/07/2014*privée'], ['STERIA*13/12/2013*privée'], [\"SYSTRA *bureaud'étude*9mars2015*privée\"], ['TDF *14/11/2012*privée'], [], ['Thales Groupe*26/05/2013*privée'], ['Tockheim Automobile*07/07/2005*privée'], ['TOTAL *5/2/2013+Annexe*13/2/2013*privée'], [\"TURBOMECA*04/12/2012 -Accordsurl'égalitéHommes/Femmes*privée\"], ['VENTE-A-DISTANCE *06/07/2015-Accorddebranche*privée'], ['VEOLIA-EAU*30/11/2006*privée'], ['VEOLIA-TRANSDEV *24/01/2013*privée'], [' VerspierenAssurances*12/07/2006*privée'], [' WoltersKluverFrance*09/04/2015*privée']]\n"
     ]
    }
   ],
   "source": [
    "save_file_csv(list_entr_privees,\"entreprises_secteurs_priveees.csv\")"
   ]
  },
  {
   "cell_type": "code",
   "execution_count": 482,
   "metadata": {},
   "outputs": [
    {
     "data": {
      "text/plain": [
       "['Accenture ', '19/01/2010']"
      ]
     },
     "execution_count": 482,
     "metadata": {},
     "output_type": "execute_result"
    }
   ],
   "source": [
    "\"Accenture *19/01/2010\".split('*')"
   ]
  },
  {
   "cell_type": "code",
   "execution_count": 440,
   "metadata": {},
   "outputs": [
    {
     "name": "stdout",
     "output_type": "stream",
     "text": [
      "<re.Match object; span=(0, 8), match='!MAISON!'>\n"
     ]
    }
   ],
   "source": [
    "print(re.search(\"^!MAISON!\",\"!MAISON!MAISON!\"))"
   ]
  },
  {
   "cell_type": "code",
   "execution_count": null,
   "metadata": {},
   "outputs": [],
   "source": []
  }
 ],
 "metadata": {
  "kernelspec": {
   "display_name": "Python 3",
   "language": "python",
   "name": "python3"
  },
  "language_info": {
   "codemirror_mode": {
    "name": "ipython",
    "version": 3
   },
   "file_extension": ".py",
   "mimetype": "text/x-python",
   "name": "python",
   "nbconvert_exporter": "python",
   "pygments_lexer": "ipython3",
   "version": "3.7.6"
  }
 },
 "nbformat": 4,
 "nbformat_minor": 4
}
