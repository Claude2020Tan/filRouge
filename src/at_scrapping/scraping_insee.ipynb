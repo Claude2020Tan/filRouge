{
 "cells": [
  {
   "cell_type": "code",
   "execution_count": 2,
   "metadata": {},
   "outputs": [],
   "source": [
    "from bs4 import  BeautifulSoup\n",
    "import requests\n",
    "import csv"
   ]
  },
  {
   "cell_type": "code",
   "execution_count": 3,
   "metadata": {},
   "outputs": [],
   "source": [
    "url=\"https://www.insee.fr/fr/statistiques/4238573?sommaire=4238635#consulter\""
   ]
  },
  {
   "cell_type": "code",
   "execution_count": 4,
   "metadata": {},
   "outputs": [],
   "source": [
    "req=requests.get(url)"
   ]
  },
  {
   "cell_type": "code",
   "execution_count": 5,
   "metadata": {},
   "outputs": [],
   "source": [
    "soup=BeautifulSoup(req.text,'html.parser')"
   ]
  },
  {
   "cell_type": "code",
   "execution_count": 6,
   "metadata": {
    "scrolled": true
   },
   "outputs": [
    {
     "name": "stdout",
     "output_type": "stream",
     "text": [
      "[None, 'Ensemble', 'Cadres', 'Professions intermédiaires', 'Employés', 'Ouvriers', '1 jour par semaine', '1,4', '4,7', '1,5', '0,7', '0,1', '2 jours par semaine', '0,8', '3,3', '0,6', '0,3', '0,0', '3 jours ou plus par semaine', '0,9', '3,1', '1,1', '0,4', '0,0', 'Ensemble', '3,0', '11,1', '3,2', '1,4', '0,2']\n"
     ]
    }
   ],
   "source": [
    "def find_tables(id_table):\n",
    "    tables=soup.find(\"table\",{\"id\":id_table})\n",
    "    tbody=tables.find_all([\"th\", \"td\"])\n",
    "    tds=[th.string for th in tbody if \"6\"  not in  th.attrs.get('colspan',[])]\n",
    "    print(tds)\n",
    "    return tds\n",
    "\n",
    "def save_file_csv():\n",
    "    file=open(\"teletravail_regulier_salariés_2017_catégorie_socioprofessionnelle.csv\",'w')\n",
    "    file_t1=csv.writer(file,delimiter=';',quoting=csv.QUOTE_NONNUMERIC) \n",
    "    list_content=find_tables(\"produit-tableau-figure1\")\n",
    "    for index in range(0,len(list_content),6):\n",
    "        t=(list_content[index],list_content[index+1],list_content[index+2],list_content[index+3],list_content[index+4],list_content[index+5])\n",
    "        file_t1.writerow(t)\n",
    "    file.close()\n",
    "\n",
    "    \n",
    "    \n",
    "save_file_csv()    "
   ]
  },
  {
   "cell_type": "code",
   "execution_count": 7,
   "metadata": {
    "scrolled": true
   },
   "outputs": [
    {
     "name": "stdout",
     "output_type": "stream",
     "text": [
      "[['caractéristiques_des_salaries', 'ensemble_des_salaries', 'cadres_ensemble', 'cadres_sect_privees'], ['Femmes', '2,9', '11,1', '11,0'], ['Hommes', '3,2', '11,0', '11,1'], ['De 15 à 29 ans', '2,0', '7,2', '7,6'], ['De 30 à 39 ans', '3,2', '10,7', '9,5'], ['De 40 à 49 ans', '3,9', '13,1', '13,4'], ['De 50 à 59 ans', '2,9', '10,9', '12,3'], ['60 ans ou plus', '2,6', '9,2', '7,8'], ['Personne seule', '1,8', '7,9', '8,4'], ['Famille monoparentale (au moins un enfant de moins de 10 ans)', '4,0', '23,0', '25,4'], ['Couple sans enfant de moins de 3 ans', '3,5', '11,2', '11,0'], ['Couple avec au moins un enfant de moins de 3 ans', '4,0', '14,2', '13,9'], ['Île-de-France', '5,5', '14,1', '16,5'], ['Autres régions', '2,4', '9,0', '7,3'], ['Privé', '3,1', '11,1'], ['Fonction publique', '3,0', '10,8', '///'], [\"Fonction publique de l'État\", '6,4', '16,1', '///'], ['Fonction publique territoriale', '1,2', '0,0', '///'], ['Fonction publique hospitalière', '0,1', '0,0', '///']]\n"
     ]
    }
   ],
   "source": [
    "def find_tables1():\n",
    "    header=[\"caractéristiques_des_salaries\",\"ensemble_des_salaries\",\"cadres_ensemble\",\"cadres_sect_privees\"]\n",
    "    lignes=[header] \n",
    "    tables=soup.find(\"table\",{\"id\":\"produit-tableau-figure2\"})# get table with id produit-tableau-figure2\n",
    "    tbody=tables.find([\"tbody\"]) # get content of table\n",
    "    trs=tbody.find_all([\"tr\"]) # get all tr in tbody\n",
    "    trs_filter=[tr for tr in trs if \"intertitre\" not in tr.attrs.get(\"class\",[])]# filter tr exclude tr with class intertitre \n",
    "    #get all td and tr in tr\n",
    "    tds=[th.find_all([\"td\",\"th\"]) for th in trs_filter ]\n",
    "    for elt in tds:\n",
    "        tdrs=[e.string for e in elt ]\n",
    "        lignes.append(tdrs)\n",
    "    \n",
    "    return lignes\n",
    "\n",
    "\n",
    "def save_file_csv1(content,name_file):\n",
    "    file=open(name_file,'w')\n",
    "    file_t1=csv.writer(file,delimiter=';',quoting=csv.QUOTE_NONNUMERIC) \n",
    "    list_content=content\n",
    "    print(list_content)\n",
    "    for index in range(0,len(list_content)-1):\n",
    "        t=tuple(list_content[index])\n",
    "        file_t1.writerow(t)\n",
    "    file.close()\n",
    "    \n",
    "save_file_csv1(find_tables1(),\"Freq_teletravail_au_moins_un_jour_par_semaine_en_2017.csv\")"
   ]
  },
  {
   "cell_type": "code",
   "execution_count": 143,
   "metadata": {},
   "outputs": [],
   "source": [
    "##Télétravail régulier en 2017 selon la distance domicile-travail"
   ]
  },
  {
   "cell_type": "code",
   "execution_count": 162,
   "metadata": {},
   "outputs": [
    {
     "name": "stdout",
     "output_type": "stream",
     "text": [
      "[None, 'en %', 'Ensemble', '3,0', 'Moins de 5 km', '1,8', 'De 5 à moins de 10 km', '2,5', 'De 10 à moins de 50 km', '3,0', '50 km ou plus', '9,0']\n",
      "[['distance_domicile_travail', 'Pourcentage'], ['Ensemble', '3,0'], ['Moins de 5 km', '1,8'], ['De 5 à moins de 10 km', '2,5'], ['De 10 à moins de 50 km', '3,0'], ['50 km ou plus', '9,0']]\n",
      "[['distance_domicile_travail', 'Pourcentage'], ['Ensemble', '3,0'], ['Moins de 5 km', '1,8'], ['De 5 à moins de 10 km', '2,5'], ['De 10 à moins de 50 km', '3,0'], ['50 km ou plus', '9,0']]\n"
     ]
    }
   ],
   "source": [
    "def find_tables2(header,id_table):\n",
    "    \n",
    "    lignes=[header]\n",
    "    tables=soup.find(\"table\",{\"id\":id_table})\n",
    "    tbody=tables.find([\"tbody\"]) # get content of table\n",
    "    trs=tbody.find_all([\"tr\"]) # get all tr in tbody\n",
    "    tds=[th.find_all([\"td\",\"th\"]) for th in trs ]\n",
    "    for elt in tds:\n",
    "        tdrs=[e.string for e in elt ]\n",
    "        lignes.append(tdrs)\n",
    "    print(lignes)\n",
    "    return lignes\n",
    "\n",
    "\n",
    "find_tables(\"produit-tableau-figure3\")\n",
    "\n",
    "\n",
    "# save data in file \n",
    "header=[\"distance_domicile_travail\",\"Pourcentage\"]\n",
    "save_file_csv1(find_tables2(header,\"produit-tableau-figure3\"),\"Teletravail_regulier_en_2017_selon_la distance_domicile_travail.csv\")"
   ]
  },
  {
   "cell_type": "code",
   "execution_count": 147,
   "metadata": {},
   "outputs": [],
   "source": [
    "##Part des salariés pratiquant le télétravail couverts par un accord en 2017"
   ]
  },
  {
   "cell_type": "code",
   "execution_count": 165,
   "metadata": {},
   "outputs": [
    {
     "name": "stdout",
     "output_type": "stream",
     "text": [
      "[['secteur_activite', 'accord_collectif', 'accord_individuel', 'tous_types_accord'], ['Industrie', '2,9', '1,3', '4,2'], ['Construction', '0,4', '1,1', '1,5'], ['Commerce', '1,0', '1,3', '2,3'], ['Services', '3,2', '2,9', '6,1'], ['dont information et communication', '11,0', '6,1', '17,1'], ['Ensemble', '2,3', '2,0', '4,3']]\n",
      "[['secteur_activite', 'accord_collectif', 'accord_individuel', 'tous_types_accord'], ['Industrie', '2,9', '1,3', '4,2'], ['Construction', '0,4', '1,1', '1,5'], ['Commerce', '1,0', '1,3', '2,3'], ['Services', '3,2', '2,9', '6,1'], ['dont information et communication', '11,0', '6,1', '17,1'], ['Ensemble', '2,3', '2,0', '4,3']]\n",
      "[['secteur_activite', 'accord_collectif', 'accord_individuel', 'tous_types_accord'], ['Industrie', '2,9', '1,3', '4,2'], ['Construction', '0,4', '1,1', '1,5'], ['Commerce', '1,0', '1,3', '2,3'], ['Services', '3,2', '2,9', '6,1'], ['dont information et communication', '11,0', '6,1', '17,1'], ['Ensemble', '2,3', '2,0', '4,3']]\n"
     ]
    }
   ],
   "source": [
    "header=[\"secteur_activite\",\"accord_collectif\",\"accord_individuel\",\"tous_types_accord\"]\n",
    "find_tables2(header,\"produit-tableau-figure4\")\n",
    "save_file_csv1(find_tables2(header,\"produit-tableau-figure4\"),\"Part_salaries_pratiquant_teletravail_couverts_par_un_accord_en_2017.csv\")"
   ]
  },
  {
   "cell_type": "code",
   "execution_count": null,
   "metadata": {},
   "outputs": [],
   "source": []
  }
 ],
 "metadata": {
  "kernelspec": {
   "display_name": "Python 3",
   "language": "python",
   "name": "python3"
  },
  "language_info": {
   "codemirror_mode": {
    "name": "ipython",
    "version": 3
   },
   "file_extension": ".py",
   "mimetype": "text/x-python",
   "name": "python",
   "nbconvert_exporter": "python",
   "pygments_lexer": "ipython3",
   "version": "3.7.6"
  }
 },
 "nbformat": 4,
 "nbformat_minor": 4
}
