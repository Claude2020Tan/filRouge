{
 "cells": [
  {
   "cell_type": "code",
   "execution_count": 1,
   "metadata": {},
   "outputs": [],
   "source": [
    "import pandas as pd\n",
    "import numpy as np\n",
    "import matplotlib.pyplot as plt"
   ]
  },
  {
   "cell_type": "code",
   "execution_count": 2,
   "metadata": {},
   "outputs": [],
   "source": [
    "import csv"
   ]
  },
  {
   "cell_type": "code",
   "execution_count": 3,
   "metadata": {},
   "outputs": [],
   "source": [
    "#encoding='ISO-8859-1'\n",
    "#encoding='utf-8'\n",
    "pd.options.display.max_columns = None\n",
    "pd.set_option('display.max_colwidth', None)"
   ]
  },
  {
   "cell_type": "code",
   "execution_count": 4,
   "metadata": {},
   "outputs": [
    {
     "name": "stdout",
     "output_type": "stream",
     "text": [
      "/bin/sh: 1: file: not found\r\n"
     ]
    }
   ],
   "source": [
    "! file -i lien3_dataset_3_bis.csv"
   ]
  },
  {
   "cell_type": "code",
   "execution_count": 5,
   "metadata": {},
   "outputs": [],
   "source": [
    "dataset = pd.read_csv('./lien3_dataset_3_bis.csv', sep='\\t', engine='python', encoding='utf-16')\n",
    "#dataset = pd.read_csv('./lien3_dataset_3_bis_2.csv', sep=';', engine='python', encoding='ISO-8859-1')#encoding=)"
   ]
  },
  {
   "cell_type": "code",
   "execution_count": 6,
   "metadata": {},
   "outputs": [
    {
     "data": {
      "text/plain": [
       "Y15-74    83832\n",
       "Y_GE25    83832\n",
       "Y_GE15    83832\n",
       "Y25-74    83832\n",
       "Y20-64    83804\n",
       "Y15-64    83804\n",
       "Y15-59    83804\n",
       "Y25-59    83804\n",
       "Y25-64    83804\n",
       "Y25-49    83692\n",
       "Y15-39    83328\n",
       "Y40-59    83244\n",
       "Y40-64    83244\n",
       "Y_GE50    83076\n",
       "Y50-74    83076\n",
       "Y55-74    82852\n",
       "Y50-64    82824\n",
       "Y50-59    82600\n",
       "Y55-64    82572\n",
       "Y15-29    82404\n",
       "Y15-24    82012\n",
       "Y_GE65    81900\n",
       "Y15-19    79268\n",
       "Y_GE75    65268\n",
       "Name: age, dtype: int64"
      ]
     },
     "execution_count": 6,
     "metadata": {},
     "output_type": "execute_result"
    }
   ],
   "source": [
    "dataset['age'].value_counts()"
   ]
  },
  {
   "cell_type": "code",
   "execution_count": 7,
   "metadata": {},
   "outputs": [
    {
     "data": {
      "text/plain": [
       "(1975708, 11)"
      ]
     },
     "execution_count": 7,
     "metadata": {},
     "output_type": "execute_result"
    }
   ],
   "source": [
    "dataset.shape"
   ]
  },
  {
   "cell_type": "code",
   "execution_count": 8,
   "metadata": {},
   "outputs": [],
   "source": [
    "#dataset.rename(columns={ann: 'Année'}, inplace=True)"
   ]
  },
  {
   "cell_type": "code",
   "execution_count": 9,
   "metadata": {},
   "outputs": [],
   "source": [
    "#dataset.head()"
   ]
  },
  {
   "cell_type": "code",
   "execution_count": 10,
   "metadata": {},
   "outputs": [
    {
     "data": {
      "text/plain": [
       "total    661164\n",
       "men      657748\n",
       "women    656796\n",
       "Name: sexe, dtype: int64"
      ]
     },
     "execution_count": 10,
     "metadata": {},
     "output_type": "execute_result"
    }
   ],
   "source": [
    "dataset['sexe'].value_counts()"
   ]
  },
  {
   "cell_type": "code",
   "execution_count": 11,
   "metadata": {},
   "outputs": [],
   "source": [
    "#dataset = dataset[dataset.sexe != 'total']"
   ]
  },
  {
   "cell_type": "code",
   "execution_count": 12,
   "metadata": {},
   "outputs": [
    {
     "data": {
      "text/plain": [
       "(1975708, 11)"
      ]
     },
     "execution_count": 12,
     "metadata": {},
     "output_type": "execute_result"
    }
   ],
   "source": [
    "dataset.shape"
   ]
  },
  {
   "cell_type": "code",
   "execution_count": 13,
   "metadata": {},
   "outputs": [
    {
     "data": {
      "text/html": [
       "<div>\n",
       "<style scoped>\n",
       "    .dataframe tbody tr th:only-of-type {\n",
       "        vertical-align: middle;\n",
       "    }\n",
       "\n",
       "    .dataframe tbody tr th {\n",
       "        vertical-align: top;\n",
       "    }\n",
       "\n",
       "    .dataframe thead th {\n",
       "        text-align: right;\n",
       "    }\n",
       "</style>\n",
       "<table border=\"1\" class=\"dataframe\">\n",
       "  <thead>\n",
       "    <tr style=\"text-align: right;\">\n",
       "      <th></th>\n",
       "      <th>age</th>\n",
       "      <th>Année</th>\n",
       "      <th>code_pays</th>\n",
       "      <th>frequence</th>\n",
       "      <th>nom_pays</th>\n",
       "      <th>sexe</th>\n",
       "      <th>statut_w</th>\n",
       "      <th>unite</th>\n",
       "      <th>valeur_hors_inconnu</th>\n",
       "      <th>index</th>\n",
       "      <th>Valeur</th>\n",
       "    </tr>\n",
       "  </thead>\n",
       "  <tbody>\n",
       "    <tr>\n",
       "      <th>1975678</th>\n",
       "      <td>Y25-49</td>\n",
       "      <td>01/01/2018</td>\n",
       "      <td>NO</td>\n",
       "      <td>USU</td>\n",
       "      <td>Norway</td>\n",
       "      <td>total</td>\n",
       "      <td>SAL</td>\n",
       "      <td>PC</td>\n",
       "      <td>Vrai</td>\n",
       "      <td>65534</td>\n",
       "      <td>5,4</td>\n",
       "    </tr>\n",
       "    <tr>\n",
       "      <th>1975679</th>\n",
       "      <td>Y25-49</td>\n",
       "      <td>01/01/2019</td>\n",
       "      <td>NO</td>\n",
       "      <td>USU</td>\n",
       "      <td>Norway</td>\n",
       "      <td>total</td>\n",
       "      <td>SAL</td>\n",
       "      <td>PC</td>\n",
       "      <td>Vrai</td>\n",
       "      <td>65534</td>\n",
       "      <td>4,5</td>\n",
       "    </tr>\n",
       "    <tr>\n",
       "      <th>1975680</th>\n",
       "      <td>Y25-49</td>\n",
       "      <td>01/01/1992</td>\n",
       "      <td>PL</td>\n",
       "      <td>USU</td>\n",
       "      <td>Poland</td>\n",
       "      <td>total</td>\n",
       "      <td>SAL</td>\n",
       "      <td>PC</td>\n",
       "      <td>Faux</td>\n",
       "      <td>65535</td>\n",
       "      <td>888</td>\n",
       "    </tr>\n",
       "    <tr>\n",
       "      <th>1975681</th>\n",
       "      <td>Y25-49</td>\n",
       "      <td>01/01/1993</td>\n",
       "      <td>PL</td>\n",
       "      <td>USU</td>\n",
       "      <td>Poland</td>\n",
       "      <td>total</td>\n",
       "      <td>SAL</td>\n",
       "      <td>PC</td>\n",
       "      <td>Faux</td>\n",
       "      <td>65535</td>\n",
       "      <td>888</td>\n",
       "    </tr>\n",
       "    <tr>\n",
       "      <th>1975682</th>\n",
       "      <td>Y25-49</td>\n",
       "      <td>01/01/1994</td>\n",
       "      <td>PL</td>\n",
       "      <td>USU</td>\n",
       "      <td>Poland</td>\n",
       "      <td>total</td>\n",
       "      <td>SAL</td>\n",
       "      <td>PC</td>\n",
       "      <td>Faux</td>\n",
       "      <td>65535</td>\n",
       "      <td>888</td>\n",
       "    </tr>\n",
       "    <tr>\n",
       "      <th>1975683</th>\n",
       "      <td>Y25-49</td>\n",
       "      <td>01/01/1995</td>\n",
       "      <td>PL</td>\n",
       "      <td>USU</td>\n",
       "      <td>Poland</td>\n",
       "      <td>total</td>\n",
       "      <td>SAL</td>\n",
       "      <td>PC</td>\n",
       "      <td>Faux</td>\n",
       "      <td>65535</td>\n",
       "      <td>888</td>\n",
       "    </tr>\n",
       "    <tr>\n",
       "      <th>1975684</th>\n",
       "      <td>Y25-49</td>\n",
       "      <td>01/01/1996</td>\n",
       "      <td>PL</td>\n",
       "      <td>USU</td>\n",
       "      <td>Poland</td>\n",
       "      <td>total</td>\n",
       "      <td>SAL</td>\n",
       "      <td>PC</td>\n",
       "      <td>Faux</td>\n",
       "      <td>65535</td>\n",
       "      <td>888</td>\n",
       "    </tr>\n",
       "    <tr>\n",
       "      <th>1975685</th>\n",
       "      <td>Y25-49</td>\n",
       "      <td>01/01/1997</td>\n",
       "      <td>PL</td>\n",
       "      <td>USU</td>\n",
       "      <td>Poland</td>\n",
       "      <td>total</td>\n",
       "      <td>SAL</td>\n",
       "      <td>PC</td>\n",
       "      <td>Faux</td>\n",
       "      <td>65535</td>\n",
       "      <td>888</td>\n",
       "    </tr>\n",
       "    <tr>\n",
       "      <th>1975686</th>\n",
       "      <td>Y25-49</td>\n",
       "      <td>01/01/1998</td>\n",
       "      <td>PL</td>\n",
       "      <td>USU</td>\n",
       "      <td>Poland</td>\n",
       "      <td>total</td>\n",
       "      <td>SAL</td>\n",
       "      <td>PC</td>\n",
       "      <td>Faux</td>\n",
       "      <td>65535</td>\n",
       "      <td>888</td>\n",
       "    </tr>\n",
       "    <tr>\n",
       "      <th>1975687</th>\n",
       "      <td>Y25-49</td>\n",
       "      <td>01/01/1999</td>\n",
       "      <td>PL</td>\n",
       "      <td>USU</td>\n",
       "      <td>Poland</td>\n",
       "      <td>total</td>\n",
       "      <td>SAL</td>\n",
       "      <td>PC</td>\n",
       "      <td>Faux</td>\n",
       "      <td>65535</td>\n",
       "      <td>888</td>\n",
       "    </tr>\n",
       "    <tr>\n",
       "      <th>1975688</th>\n",
       "      <td>Y25-49</td>\n",
       "      <td>01/01/2000</td>\n",
       "      <td>PL</td>\n",
       "      <td>USU</td>\n",
       "      <td>Poland</td>\n",
       "      <td>total</td>\n",
       "      <td>SAL</td>\n",
       "      <td>PC</td>\n",
       "      <td>Faux</td>\n",
       "      <td>65535</td>\n",
       "      <td>888</td>\n",
       "    </tr>\n",
       "    <tr>\n",
       "      <th>1975689</th>\n",
       "      <td>Y25-49</td>\n",
       "      <td>01/01/2001</td>\n",
       "      <td>PL</td>\n",
       "      <td>USU</td>\n",
       "      <td>Poland</td>\n",
       "      <td>total</td>\n",
       "      <td>SAL</td>\n",
       "      <td>PC</td>\n",
       "      <td>Vrai</td>\n",
       "      <td>65535</td>\n",
       "      <td>1,2</td>\n",
       "    </tr>\n",
       "    <tr>\n",
       "      <th>1975690</th>\n",
       "      <td>Y25-49</td>\n",
       "      <td>01/01/2002</td>\n",
       "      <td>PL</td>\n",
       "      <td>USU</td>\n",
       "      <td>Poland</td>\n",
       "      <td>total</td>\n",
       "      <td>SAL</td>\n",
       "      <td>PC</td>\n",
       "      <td>Vrai</td>\n",
       "      <td>65535</td>\n",
       "      <td>1,2</td>\n",
       "    </tr>\n",
       "    <tr>\n",
       "      <th>1975691</th>\n",
       "      <td>Y25-49</td>\n",
       "      <td>01/01/2003</td>\n",
       "      <td>PL</td>\n",
       "      <td>USU</td>\n",
       "      <td>Poland</td>\n",
       "      <td>total</td>\n",
       "      <td>SAL</td>\n",
       "      <td>PC</td>\n",
       "      <td>Vrai</td>\n",
       "      <td>65535</td>\n",
       "      <td>1,4</td>\n",
       "    </tr>\n",
       "    <tr>\n",
       "      <th>1975692</th>\n",
       "      <td>Y25-49</td>\n",
       "      <td>01/01/2004</td>\n",
       "      <td>PL</td>\n",
       "      <td>USU</td>\n",
       "      <td>Poland</td>\n",
       "      <td>total</td>\n",
       "      <td>SAL</td>\n",
       "      <td>PC</td>\n",
       "      <td>Vrai</td>\n",
       "      <td>65535</td>\n",
       "      <td>1,5</td>\n",
       "    </tr>\n",
       "    <tr>\n",
       "      <th>1975693</th>\n",
       "      <td>Y25-49</td>\n",
       "      <td>01/01/2005</td>\n",
       "      <td>PL</td>\n",
       "      <td>USU</td>\n",
       "      <td>Poland</td>\n",
       "      <td>total</td>\n",
       "      <td>SAL</td>\n",
       "      <td>PC</td>\n",
       "      <td>Vrai</td>\n",
       "      <td>65535</td>\n",
       "      <td>1,3</td>\n",
       "    </tr>\n",
       "    <tr>\n",
       "      <th>1975694</th>\n",
       "      <td>Y25-49</td>\n",
       "      <td>01/01/2006</td>\n",
       "      <td>PL</td>\n",
       "      <td>USU</td>\n",
       "      <td>Poland</td>\n",
       "      <td>total</td>\n",
       "      <td>SAL</td>\n",
       "      <td>PC</td>\n",
       "      <td>Vrai</td>\n",
       "      <td>65535</td>\n",
       "      <td>1,3</td>\n",
       "    </tr>\n",
       "    <tr>\n",
       "      <th>1975695</th>\n",
       "      <td>Y25-49</td>\n",
       "      <td>01/01/2007</td>\n",
       "      <td>PL</td>\n",
       "      <td>USU</td>\n",
       "      <td>Poland</td>\n",
       "      <td>total</td>\n",
       "      <td>SAL</td>\n",
       "      <td>PC</td>\n",
       "      <td>Vrai</td>\n",
       "      <td>65535</td>\n",
       "      <td>1,3</td>\n",
       "    </tr>\n",
       "    <tr>\n",
       "      <th>1975696</th>\n",
       "      <td>Y25-49</td>\n",
       "      <td>01/01/2008</td>\n",
       "      <td>PL</td>\n",
       "      <td>USU</td>\n",
       "      <td>Poland</td>\n",
       "      <td>total</td>\n",
       "      <td>SAL</td>\n",
       "      <td>PC</td>\n",
       "      <td>Vrai</td>\n",
       "      <td>65535</td>\n",
       "      <td>1,4</td>\n",
       "    </tr>\n",
       "    <tr>\n",
       "      <th>1975697</th>\n",
       "      <td>Y25-49</td>\n",
       "      <td>01/01/2009</td>\n",
       "      <td>PL</td>\n",
       "      <td>USU</td>\n",
       "      <td>Poland</td>\n",
       "      <td>total</td>\n",
       "      <td>SAL</td>\n",
       "      <td>PC</td>\n",
       "      <td>Vrai</td>\n",
       "      <td>65535</td>\n",
       "      <td>1,5</td>\n",
       "    </tr>\n",
       "    <tr>\n",
       "      <th>1975698</th>\n",
       "      <td>Y25-49</td>\n",
       "      <td>01/01/2010</td>\n",
       "      <td>PL</td>\n",
       "      <td>USU</td>\n",
       "      <td>Poland</td>\n",
       "      <td>total</td>\n",
       "      <td>SAL</td>\n",
       "      <td>PC</td>\n",
       "      <td>Vrai</td>\n",
       "      <td>65535</td>\n",
       "      <td>1,6</td>\n",
       "    </tr>\n",
       "    <tr>\n",
       "      <th>1975699</th>\n",
       "      <td>Y25-49</td>\n",
       "      <td>01/01/2011</td>\n",
       "      <td>PL</td>\n",
       "      <td>USU</td>\n",
       "      <td>Poland</td>\n",
       "      <td>total</td>\n",
       "      <td>SAL</td>\n",
       "      <td>PC</td>\n",
       "      <td>Vrai</td>\n",
       "      <td>65535</td>\n",
       "      <td>1,6</td>\n",
       "    </tr>\n",
       "    <tr>\n",
       "      <th>1975700</th>\n",
       "      <td>Y25-49</td>\n",
       "      <td>01/01/2012</td>\n",
       "      <td>PL</td>\n",
       "      <td>USU</td>\n",
       "      <td>Poland</td>\n",
       "      <td>total</td>\n",
       "      <td>SAL</td>\n",
       "      <td>PC</td>\n",
       "      <td>Vrai</td>\n",
       "      <td>65535</td>\n",
       "      <td>1,7</td>\n",
       "    </tr>\n",
       "    <tr>\n",
       "      <th>1975701</th>\n",
       "      <td>Y25-49</td>\n",
       "      <td>01/01/2013</td>\n",
       "      <td>PL</td>\n",
       "      <td>USU</td>\n",
       "      <td>Poland</td>\n",
       "      <td>total</td>\n",
       "      <td>SAL</td>\n",
       "      <td>PC</td>\n",
       "      <td>Vrai</td>\n",
       "      <td>65535</td>\n",
       "      <td>1,4</td>\n",
       "    </tr>\n",
       "    <tr>\n",
       "      <th>1975702</th>\n",
       "      <td>Y25-49</td>\n",
       "      <td>01/01/2014</td>\n",
       "      <td>PL</td>\n",
       "      <td>USU</td>\n",
       "      <td>Poland</td>\n",
       "      <td>total</td>\n",
       "      <td>SAL</td>\n",
       "      <td>PC</td>\n",
       "      <td>Vrai</td>\n",
       "      <td>65535</td>\n",
       "      <td>1,6</td>\n",
       "    </tr>\n",
       "    <tr>\n",
       "      <th>1975703</th>\n",
       "      <td>Y25-49</td>\n",
       "      <td>01/01/2015</td>\n",
       "      <td>PL</td>\n",
       "      <td>USU</td>\n",
       "      <td>Poland</td>\n",
       "      <td>total</td>\n",
       "      <td>SAL</td>\n",
       "      <td>PC</td>\n",
       "      <td>Vrai</td>\n",
       "      <td>65535</td>\n",
       "      <td>1,7</td>\n",
       "    </tr>\n",
       "    <tr>\n",
       "      <th>1975704</th>\n",
       "      <td>Y25-49</td>\n",
       "      <td>01/01/2016</td>\n",
       "      <td>PL</td>\n",
       "      <td>USU</td>\n",
       "      <td>Poland</td>\n",
       "      <td>total</td>\n",
       "      <td>SAL</td>\n",
       "      <td>PC</td>\n",
       "      <td>Vrai</td>\n",
       "      <td>65535</td>\n",
       "      <td>1,5</td>\n",
       "    </tr>\n",
       "    <tr>\n",
       "      <th>1975705</th>\n",
       "      <td>Y25-49</td>\n",
       "      <td>01/01/2017</td>\n",
       "      <td>PL</td>\n",
       "      <td>USU</td>\n",
       "      <td>Poland</td>\n",
       "      <td>total</td>\n",
       "      <td>SAL</td>\n",
       "      <td>PC</td>\n",
       "      <td>Vrai</td>\n",
       "      <td>65535</td>\n",
       "      <td>1,4</td>\n",
       "    </tr>\n",
       "    <tr>\n",
       "      <th>1975706</th>\n",
       "      <td>Y25-49</td>\n",
       "      <td>01/01/2018</td>\n",
       "      <td>PL</td>\n",
       "      <td>USU</td>\n",
       "      <td>Poland</td>\n",
       "      <td>total</td>\n",
       "      <td>SAL</td>\n",
       "      <td>PC</td>\n",
       "      <td>Vrai</td>\n",
       "      <td>65535</td>\n",
       "      <td>1,5</td>\n",
       "    </tr>\n",
       "    <tr>\n",
       "      <th>1975707</th>\n",
       "      <td>Y25-49</td>\n",
       "      <td>01/01/2019</td>\n",
       "      <td>PL</td>\n",
       "      <td>USU</td>\n",
       "      <td>Poland</td>\n",
       "      <td>total</td>\n",
       "      <td>SAL</td>\n",
       "      <td>PC</td>\n",
       "      <td>Vrai</td>\n",
       "      <td>65535</td>\n",
       "      <td>1,6</td>\n",
       "    </tr>\n",
       "  </tbody>\n",
       "</table>\n",
       "</div>"
      ],
      "text/plain": [
       "            age       Année code_pays frequence nom_pays   sexe statut_w  \\\n",
       "1975678  Y25-49  01/01/2018        NO       USU   Norway  total      SAL   \n",
       "1975679  Y25-49  01/01/2019        NO       USU   Norway  total      SAL   \n",
       "1975680  Y25-49  01/01/1992        PL       USU   Poland  total      SAL   \n",
       "1975681  Y25-49  01/01/1993        PL       USU   Poland  total      SAL   \n",
       "1975682  Y25-49  01/01/1994        PL       USU   Poland  total      SAL   \n",
       "1975683  Y25-49  01/01/1995        PL       USU   Poland  total      SAL   \n",
       "1975684  Y25-49  01/01/1996        PL       USU   Poland  total      SAL   \n",
       "1975685  Y25-49  01/01/1997        PL       USU   Poland  total      SAL   \n",
       "1975686  Y25-49  01/01/1998        PL       USU   Poland  total      SAL   \n",
       "1975687  Y25-49  01/01/1999        PL       USU   Poland  total      SAL   \n",
       "1975688  Y25-49  01/01/2000        PL       USU   Poland  total      SAL   \n",
       "1975689  Y25-49  01/01/2001        PL       USU   Poland  total      SAL   \n",
       "1975690  Y25-49  01/01/2002        PL       USU   Poland  total      SAL   \n",
       "1975691  Y25-49  01/01/2003        PL       USU   Poland  total      SAL   \n",
       "1975692  Y25-49  01/01/2004        PL       USU   Poland  total      SAL   \n",
       "1975693  Y25-49  01/01/2005        PL       USU   Poland  total      SAL   \n",
       "1975694  Y25-49  01/01/2006        PL       USU   Poland  total      SAL   \n",
       "1975695  Y25-49  01/01/2007        PL       USU   Poland  total      SAL   \n",
       "1975696  Y25-49  01/01/2008        PL       USU   Poland  total      SAL   \n",
       "1975697  Y25-49  01/01/2009        PL       USU   Poland  total      SAL   \n",
       "1975698  Y25-49  01/01/2010        PL       USU   Poland  total      SAL   \n",
       "1975699  Y25-49  01/01/2011        PL       USU   Poland  total      SAL   \n",
       "1975700  Y25-49  01/01/2012        PL       USU   Poland  total      SAL   \n",
       "1975701  Y25-49  01/01/2013        PL       USU   Poland  total      SAL   \n",
       "1975702  Y25-49  01/01/2014        PL       USU   Poland  total      SAL   \n",
       "1975703  Y25-49  01/01/2015        PL       USU   Poland  total      SAL   \n",
       "1975704  Y25-49  01/01/2016        PL       USU   Poland  total      SAL   \n",
       "1975705  Y25-49  01/01/2017        PL       USU   Poland  total      SAL   \n",
       "1975706  Y25-49  01/01/2018        PL       USU   Poland  total      SAL   \n",
       "1975707  Y25-49  01/01/2019        PL       USU   Poland  total      SAL   \n",
       "\n",
       "        unite valeur_hors_inconnu  index Valeur  \n",
       "1975678    PC                Vrai  65534    5,4  \n",
       "1975679    PC                Vrai  65534    4,5  \n",
       "1975680    PC                Faux  65535    888  \n",
       "1975681    PC                Faux  65535    888  \n",
       "1975682    PC                Faux  65535    888  \n",
       "1975683    PC                Faux  65535    888  \n",
       "1975684    PC                Faux  65535    888  \n",
       "1975685    PC                Faux  65535    888  \n",
       "1975686    PC                Faux  65535    888  \n",
       "1975687    PC                Faux  65535    888  \n",
       "1975688    PC                Faux  65535    888  \n",
       "1975689    PC                Vrai  65535    1,2  \n",
       "1975690    PC                Vrai  65535    1,2  \n",
       "1975691    PC                Vrai  65535    1,4  \n",
       "1975692    PC                Vrai  65535    1,5  \n",
       "1975693    PC                Vrai  65535    1,3  \n",
       "1975694    PC                Vrai  65535    1,3  \n",
       "1975695    PC                Vrai  65535    1,3  \n",
       "1975696    PC                Vrai  65535    1,4  \n",
       "1975697    PC                Vrai  65535    1,5  \n",
       "1975698    PC                Vrai  65535    1,6  \n",
       "1975699    PC                Vrai  65535    1,6  \n",
       "1975700    PC                Vrai  65535    1,7  \n",
       "1975701    PC                Vrai  65535    1,4  \n",
       "1975702    PC                Vrai  65535    1,6  \n",
       "1975703    PC                Vrai  65535    1,7  \n",
       "1975704    PC                Vrai  65535    1,5  \n",
       "1975705    PC                Vrai  65535    1,4  \n",
       "1975706    PC                Vrai  65535    1,5  \n",
       "1975707    PC                Vrai  65535    1,6  "
      ]
     },
     "execution_count": 13,
     "metadata": {},
     "output_type": "execute_result"
    }
   ],
   "source": [
    "dataset.tail(30)"
   ]
  },
  {
   "cell_type": "code",
   "execution_count": 15,
   "metadata": {},
   "outputs": [],
   "source": [
    "bin_age = ['Y15-24', 'Y25-49', 'Y50-64']\n",
    "bin_ge15 = ['Y_GE15']"
   ]
  },
  {
   "cell_type": "code",
   "execution_count": 14,
   "metadata": {},
   "outputs": [],
   "source": [
    "def get_df(df, bin_age):\n",
    "    \n",
    "    res = df[df.sexe != 'total']\n",
    "    res = res[res['age'].isin(bin_age)]\n",
    "    res['Valeur'] = res['Valeur'].str.replace(',', '.')\n",
    "    res['Valeur'] = res['Valeur'].astype(float)\n",
    "    return res"
   ]
  },
  {
   "cell_type": "code",
   "execution_count": 17,
   "metadata": {},
   "outputs": [],
   "source": [
    "#dataset_fr_vrai  = dataset[(dataset['code_pays'] == 'FR') & (dataset['valeur_hors_inconnu'] == 'Vrai')]\n",
    "dataset_fr = dataset[(dataset['code_pays'] == 'FR')]\n"
   ]
  },
  {
   "cell_type": "code",
   "execution_count": 18,
   "metadata": {},
   "outputs": [],
   "source": [
    "dataset_fr_age = get_df(dataset_fr, bin_age)"
   ]
  },
  {
   "cell_type": "code",
   "execution_count": 19,
   "metadata": {},
   "outputs": [],
   "source": [
    "dataset_fr_age_vrai = dataset_fr_age[(dataset_fr_age['valeur_hors_inconnu'] == 'Vrai')]"
   ]
  },
  {
   "cell_type": "code",
   "execution_count": 21,
   "metadata": {},
   "outputs": [],
   "source": [
    "#holding_dataset =dataset_fr_age[(dataset_fr_age['valeur_hors_inconnu'] == 'Vrai')]\n",
    "               \n",
    "holdout_fr_age = dataset_fr_age[(dataset_fr_age['valeur_hors_inconnu'] == 'Faux')]"
   ]
  },
  {
   "cell_type": "code",
   "execution_count": null,
   "metadata": {},
   "outputs": [],
   "source": [
    "#dataset_fr_age[(dataset_fr_age['valeur_hors_inconnu'] == 'Vrai')]dataset_fr_vrai.shape"
   ]
  },
  {
   "cell_type": "code",
   "execution_count": null,
   "metadata": {},
   "outputs": [],
   "source": []
  },
  {
   "cell_type": "code",
   "execution_count": null,
   "metadata": {},
   "outputs": [],
   "source": []
  },
  {
   "cell_type": "code",
   "execution_count": null,
   "metadata": {},
   "outputs": [],
   "source": [
    "#dataset_df_vrai_age = get_df(dataset_fr_vrai, bin_age)"
   ]
  },
  {
   "cell_type": "code",
   "execution_count": null,
   "metadata": {},
   "outputs": [],
   "source": [
    "#dataset_df_vrai_age15 = get_df(dataset_fr_vrai, bin_ge15)"
   ]
  },
  {
   "cell_type": "code",
   "execution_count": null,
   "metadata": {},
   "outputs": [],
   "source": [
    "#dataset_df_vrai_age15.head()"
   ]
  },
  {
   "cell_type": "code",
   "execution_count": 23,
   "metadata": {},
   "outputs": [
    {
     "data": {
      "text/plain": [
       "(2584, 11)"
      ]
     },
     "execution_count": 23,
     "metadata": {},
     "output_type": "execute_result"
    }
   ],
   "source": [
    "dataset_fr_age_vrai.shape"
   ]
  },
  {
   "cell_type": "code",
   "execution_count": 24,
   "metadata": {},
   "outputs": [],
   "source": [
    "## Feature eng"
   ]
  },
  {
   "cell_type": "code",
   "execution_count": 25,
   "metadata": {},
   "outputs": [],
   "source": [
    "from sklearn.preprocessing import OrdinalEncoder, OneHotEncoder"
   ]
  },
  {
   "cell_type": "code",
   "execution_count": 26,
   "metadata": {},
   "outputs": [],
   "source": [
    "def encode_cols(df):\n",
    "    ordinal_encoder = OrdinalEncoder()\n",
    "    if len(np.unique(df['age'].values)) > 1:\n",
    "        df['age_encoded'] = ordinal_encoder.fit_transform(df[['age']])\n",
    "        \n",
    "    col_one_hot = ['frequence', 'sexe', 'statut_w']\n",
    "    copy_df = df.reset_index(drop=True).copy()\n",
    "    list_df = [copy_df]\n",
    "    for col in col_one_hot:\n",
    "        one_hot = OneHotEncoder()\n",
    "        values = one_hot.fit_transform(df[[col]]).toarray()\n",
    "        feature_names = one_hot.get_feature_names([col])\n",
    "        temp_df = pd.DataFrame(values, columns=feature_names)\n",
    "        list_df.append(temp_df)\n",
    "        \n",
    "    result = pd.concat(list_df, axis=1)\n",
    "    #result.drop([\"index\"], inplace=True, axis=0)\n",
    "    return result\n",
    "    \n",
    "    \n",
    "   \n",
    "\n",
    "\n",
    "    \n",
    "    "
   ]
  },
  {
   "cell_type": "code",
   "execution_count": null,
   "metadata": {},
   "outputs": [],
   "source": []
  },
  {
   "cell_type": "code",
   "execution_count": 27,
   "metadata": {},
   "outputs": [
    {
     "name": "stderr",
     "output_type": "stream",
     "text": [
      "/opt/conda/lib/python3.7/site-packages/ipykernel_launcher.py:4: SettingWithCopyWarning: \n",
      "A value is trying to be set on a copy of a slice from a DataFrame.\n",
      "Try using .loc[row_indexer,col_indexer] = value instead\n",
      "\n",
      "See the caveats in the documentation: https://pandas.pydata.org/pandas-docs/stable/user_guide/indexing.html#returning-a-view-versus-a-copy\n",
      "  after removing the cwd from sys.path.\n"
     ]
    }
   ],
   "source": [
    "dataset_fr_age_vrai_enc = encode_cols(dataset_fr_age_vrai)"
   ]
  },
  {
   "cell_type": "code",
   "execution_count": null,
   "metadata": {},
   "outputs": [],
   "source": [
    "#dataset_df_vrai_age15_enc = encode_cols(dataset_df_vrai_age15)"
   ]
  },
  {
   "cell_type": "code",
   "execution_count": null,
   "metadata": {},
   "outputs": [],
   "source": [
    "#dataset_df_vrai_age15_enc.head()"
   ]
  },
  {
   "cell_type": "code",
   "execution_count": 28,
   "metadata": {},
   "outputs": [],
   "source": [
    "colonne_utiles = dataset_fr_age_vrai_enc.loc[:, 'age_encoded':].columns.tolist()\n",
    "#colonne_utiles_age15 = dataset_df_vrai_age15_enc.loc[:, 'frequence_NVR':].columns.tolist()"
   ]
  },
  {
   "cell_type": "code",
   "execution_count": null,
   "metadata": {},
   "outputs": [],
   "source": [
    "#colonne_utiles_age15"
   ]
  },
  {
   "cell_type": "code",
   "execution_count": 29,
   "metadata": {},
   "outputs": [],
   "source": [
    "X = dataset_fr_age_vrai_enc[colonne_utiles]\n",
    "y = dataset_fr_age_vrai_enc['Valeur']"
   ]
  },
  {
   "cell_type": "code",
   "execution_count": null,
   "metadata": {},
   "outputs": [],
   "source": [
    "#X15 = dataset_df_vrai_age15_enc[colonne_utiles_age15]\n",
    "#y15 = dataset_df_vrai_age15_enc['Valeur']"
   ]
  },
  {
   "cell_type": "code",
   "execution_count": 30,
   "metadata": {},
   "outputs": [
    {
     "data": {
      "text/plain": [
       "646.0"
      ]
     },
     "execution_count": 30,
     "metadata": {},
     "output_type": "execute_result"
    }
   ],
   "source": [
    "X.shape[0]*.25"
   ]
  },
  {
   "cell_type": "code",
   "execution_count": 31,
   "metadata": {},
   "outputs": [],
   "source": [
    "from sklearn.model_selection import train_test_split\n",
    "X_train, X_test, y_train,  y_test = train_test_split(X, y, test_size=.25, random_state=42)"
   ]
  },
  {
   "cell_type": "code",
   "execution_count": null,
   "metadata": {},
   "outputs": [],
   "source": [
    "#X_train15, X_test15, y_train15,  y_test15 = train_test_split(X15, y15, test_size=.2, random_state=42)"
   ]
  },
  {
   "cell_type": "code",
   "execution_count": null,
   "metadata": {},
   "outputs": [],
   "source": []
  },
  {
   "cell_type": "code",
   "execution_count": 32,
   "metadata": {},
   "outputs": [],
   "source": [
    "from sklearn.linear_model import  LinearRegression"
   ]
  },
  {
   "cell_type": "code",
   "execution_count": 33,
   "metadata": {},
   "outputs": [],
   "source": [
    "lm = LinearRegression()"
   ]
  },
  {
   "cell_type": "code",
   "execution_count": 34,
   "metadata": {},
   "outputs": [
    {
     "data": {
      "text/plain": [
       "LinearRegression(copy_X=True, fit_intercept=True, n_jobs=None, normalize=False)"
      ]
     },
     "execution_count": 34,
     "metadata": {},
     "output_type": "execute_result"
    }
   ],
   "source": [
    "lm.fit(X_train, y_train)"
   ]
  },
  {
   "cell_type": "code",
   "execution_count": 35,
   "metadata": {},
   "outputs": [],
   "source": [
    "#lm1 = LinearRegression()\n",
    "#lm1.fit(X_train15, y_train15)\n",
    "#y_train15_pred = lm1.predict(X_train15)"
   ]
  },
  {
   "cell_type": "code",
   "execution_count": null,
   "metadata": {},
   "outputs": [],
   "source": [
    "#plt.scatter(y_train15,  y_train15_pred)"
   ]
  },
  {
   "cell_type": "code",
   "execution_count": 36,
   "metadata": {},
   "outputs": [],
   "source": [
    "y_train_pred = lm.predict(X_train)"
   ]
  },
  {
   "cell_type": "code",
   "execution_count": null,
   "metadata": {},
   "outputs": [],
   "source": []
  },
  {
   "cell_type": "code",
   "execution_count": 37,
   "metadata": {},
   "outputs": [
    {
     "data": {
      "text/plain": [
       "<matplotlib.collections.PathCollection at 0x7fa50c26e190>"
      ]
     },
     "execution_count": 37,
     "metadata": {},
     "output_type": "execute_result"
    },
    {
     "data": {
      "image/png": "[encoded data removed]",
      "text/plain": [
       "<Figure size 432x288 with 1 Axes>"
      ]
     },
     "metadata": {
      "needs_background": "light"
     },
     "output_type": "display_data"
    }
   ],
   "source": [
    "plt.scatter(y_train,  y_train_pred)"
   ]
  },
  {
   "cell_type": "code",
   "execution_count": 38,
   "metadata": {},
   "outputs": [],
   "source": [
    "from sklearn.metrics import mean_squared_error, r2_score\n",
    "import numpy  as np"
   ]
  },
  {
   "cell_type": "code",
   "execution_count": 39,
   "metadata": {},
   "outputs": [],
   "source": [
    "rmse = np.sqrt(mean_squared_error(y_train, y_train_pred))"
   ]
  },
  {
   "cell_type": "code",
   "execution_count": 40,
   "metadata": {},
   "outputs": [
    {
     "data": {
      "text/plain": [
       "17.146328928293492"
      ]
     },
     "execution_count": 40,
     "metadata": {},
     "output_type": "execute_result"
    }
   ],
   "source": [
    "rmse"
   ]
  },
  {
   "cell_type": "code",
   "execution_count": 41,
   "metadata": {},
   "outputs": [
    {
     "name": "stdout",
     "output_type": "stream",
     "text": [
      "--- Dense matrices\n"
     ]
    }
   ],
   "source": [
    "from time import time\n",
    "from scipy import sparse\n",
    "from scipy import linalg\n",
    "\n",
    "from sklearn.datasets import make_regression\n",
    "from sklearn.linear_model import Lasso\n",
    "\n",
    "\n",
    "# #############################################################################\n",
    "# The two Lasso implementations on Dense data\n",
    "print(\"--- Dense matrices\")\n",
    "\n",
    "X, y = make_regression(n_samples=200, n_features=5000, random_state=0)\n",
    "X_sp = sparse.coo_matrix(X)\n"
   ]
  },
  {
   "cell_type": "code",
   "execution_count": 42,
   "metadata": {},
   "outputs": [],
   "source": [
    "X_train_sp = sparse.coo_matrix(X_train)"
   ]
  },
  {
   "cell_type": "code",
   "execution_count": 43,
   "metadata": {},
   "outputs": [
    {
     "data": {
      "text/plain": [
       "array([[2., 1., 0., ..., 0., 0., 0.],\n",
       "       [0., 1., 0., ..., 0., 0., 0.],\n",
       "       [1., 0., 0., ..., 0., 0., 1.],\n",
       "       ...,\n",
       "       [2., 0., 0., ..., 0., 0., 0.],\n",
       "       [0., 1., 0., ..., 0., 0., 0.],\n",
       "       [2., 0., 1., ..., 0., 0., 1.]])"
      ]
     },
     "execution_count": 43,
     "metadata": {},
     "output_type": "execute_result"
    }
   ],
   "source": [
    "X_train_sp.toarray()"
   ]
  },
  {
   "cell_type": "code",
   "execution_count": 44,
   "metadata": {},
   "outputs": [],
   "source": [
    "# lm = ax + b + lambda ||x||_2 \n",
    "alpha = .2\n",
    "sparse_lasso = Lasso(alpha=alpha, fit_intercept=False, max_iter=1000)"
   ]
  },
  {
   "cell_type": "code",
   "execution_count": 45,
   "metadata": {},
   "outputs": [
    {
     "data": {
      "text/plain": [
       "Lasso(alpha=0.2, copy_X=True, fit_intercept=False, max_iter=1000,\n",
       "      normalize=False, positive=False, precompute=False, random_state=None,\n",
       "      selection='cyclic', tol=0.0001, warm_start=False)"
      ]
     },
     "execution_count": 45,
     "metadata": {},
     "output_type": "execute_result"
    }
   ],
   "source": [
    "sparse_lasso.fit(X_train, y_train)"
   ]
  },
  {
   "cell_type": "code",
   "execution_count": 46,
   "metadata": {},
   "outputs": [],
   "source": [
    "pred = sparse_lasso.predict(X_train)"
   ]
  },
  {
   "cell_type": "code",
   "execution_count": 47,
   "metadata": {},
   "outputs": [
    {
     "data": {
      "text/plain": [
       "array([67.36024229, 74.21258532, 21.32508904, ..., 19.77361695,\n",
       "       70.78882628, 13.33657442])"
      ]
     },
     "execution_count": 47,
     "metadata": {},
     "output_type": "execute_result"
    }
   ],
   "source": [
    "pred"
   ]
  },
  {
   "cell_type": "code",
   "execution_count": 48,
   "metadata": {},
   "outputs": [
    {
     "data": {
      "text/plain": [
       "383      42.4\n",
       "1362    100.0\n",
       "2396      9.2\n",
       "1561     45.8\n",
       "177      47.9\n",
       "        ...  \n",
       "1638     78.1\n",
       "1095     63.9\n",
       "1130     11.8\n",
       "1294     97.4\n",
       "860      34.7\n",
       "Name: Valeur, Length: 1938, dtype: float64"
      ]
     },
     "execution_count": 48,
     "metadata": {},
     "output_type": "execute_result"
    }
   ],
   "source": [
    "y_train"
   ]
  },
  {
   "cell_type": "code",
   "execution_count": 49,
   "metadata": {},
   "outputs": [
    {
     "data": {
      "text/plain": [
       "<matplotlib.collections.PathCollection at 0x7fa50b7cd350>"
      ]
     },
     "execution_count": 49,
     "metadata": {},
     "output_type": "execute_result"
    },
    {
     "data": {
      "image/png": "[encoded data removed]",
      "text/plain": [
       "<Figure size 432x288 with 1 Axes>"
      ]
     },
     "metadata": {
      "needs_background": "light"
     },
     "output_type": "display_data"
    }
   ],
   "source": [
    "plt.scatter(y_train,  pred)"
   ]
  },
  {
   "cell_type": "code",
   "execution_count": 50,
   "metadata": {},
   "outputs": [],
   "source": [
    "from sklearn.ensemble import RandomForestRegressor"
   ]
  },
  {
   "cell_type": "code",
   "execution_count": 51,
   "metadata": {},
   "outputs": [],
   "source": [
    "rf = RandomForestRegressor()\n",
    "rf.fit(X_train, y_train)\n",
    "pred = rf.predict(X_train)"
   ]
  },
  {
   "cell_type": "code",
   "execution_count": null,
   "metadata": {},
   "outputs": [],
   "source": []
  },
  {
   "cell_type": "code",
   "execution_count": null,
   "metadata": {},
   "outputs": [],
   "source": []
  },
  {
   "cell_type": "code",
   "execution_count": 52,
   "metadata": {},
   "outputs": [
    {
     "data": {
      "text/plain": [
       "array([42.06459794, 98.06912814, 18.810956  , ..., 11.78417813,\n",
       "       96.62679276, 23.802769  ])"
      ]
     },
     "execution_count": 52,
     "metadata": {},
     "output_type": "execute_result"
    }
   ],
   "source": [
    "pred"
   ]
  },
  {
   "cell_type": "code",
   "execution_count": 53,
   "metadata": {},
   "outputs": [
    {
     "data": {
      "text/plain": [
       "<matplotlib.collections.PathCollection at 0x7fa52521b750>"
      ]
     },
     "execution_count": 53,
     "metadata": {},
     "output_type": "execute_result"
    },
    {
     "data": {
      "image/png": "[encoded data removed]",
      "text/plain": [
       "<Figure size 432x288 with 1 Axes>"
      ]
     },
     "metadata": {
      "needs_background": "light"
     },
     "output_type": "display_data"
    }
   ],
   "source": [
    "plt.scatter(y_train,  pred)"
   ]
  },
  {
   "cell_type": "code",
   "execution_count": 54,
   "metadata": {},
   "outputs": [],
   "source": [
    "rmse = np.sqrt(mean_squared_error(y_train, pred))"
   ]
  },
  {
   "cell_type": "code",
   "execution_count": 55,
   "metadata": {},
   "outputs": [
    {
     "data": {
      "text/plain": [
       "4.699924320693282"
      ]
     },
     "execution_count": 55,
     "metadata": {},
     "output_type": "execute_result"
    }
   ],
   "source": [
    "rmse"
   ]
  },
  {
   "cell_type": "code",
   "execution_count": 56,
   "metadata": {},
   "outputs": [],
   "source": [
    "y_test_pred = rf.predict(X_test)"
   ]
  },
  {
   "cell_type": "code",
   "execution_count": 57,
   "metadata": {},
   "outputs": [
    {
     "data": {
      "text/plain": [
       "<matplotlib.collections.PathCollection at 0x7fa525871690>"
      ]
     },
     "execution_count": 57,
     "metadata": {},
     "output_type": "execute_result"
    },
    {
     "data": {
      "image/png": "[encoded data removed]",
      "text/plain": [
       "<Figure size 432x288 with 1 Axes>"
      ]
     },
     "metadata": {
      "needs_background": "light"
     },
     "output_type": "display_data"
    }
   ],
   "source": [
    "plt.scatter(y_test,  y_test_pred)"
   ]
  },
  {
   "cell_type": "code",
   "execution_count": 58,
   "metadata": {},
   "outputs": [],
   "source": [
    "rmse_test = np.sqrt(mean_squared_error(y_test, y_test_pred))"
   ]
  },
  {
   "cell_type": "code",
   "execution_count": 59,
   "metadata": {},
   "outputs": [
    {
     "data": {
      "text/plain": [
       "5.289324011664999"
      ]
     },
     "execution_count": 59,
     "metadata": {},
     "output_type": "execute_result"
    }
   ],
   "source": [
    "rmse_test"
   ]
  },
  {
   "cell_type": "code",
   "execution_count": 60,
   "metadata": {},
   "outputs": [],
   "source": [
    "from sklearn.metrics import accuracy_score, r2_score"
   ]
  },
  {
   "cell_type": "code",
   "execution_count": 61,
   "metadata": {},
   "outputs": [],
   "source": [
    "r2_train_pred = r2_score(y_train, pred)"
   ]
  },
  {
   "cell_type": "code",
   "execution_count": 62,
   "metadata": {},
   "outputs": [
    {
     "data": {
      "text/plain": [
       "0.9763047705353364"
      ]
     },
     "execution_count": 62,
     "metadata": {},
     "output_type": "execute_result"
    }
   ],
   "source": [
    "r2_train_pred"
   ]
  },
  {
   "cell_type": "code",
   "execution_count": 63,
   "metadata": {},
   "outputs": [],
   "source": [
    "r2_test_pred = r2_score(y_test, y_test_pred)"
   ]
  },
  {
   "cell_type": "code",
   "execution_count": 64,
   "metadata": {},
   "outputs": [
    {
     "data": {
      "text/plain": [
       "0.9673349814029106"
      ]
     },
     "execution_count": 64,
     "metadata": {},
     "output_type": "execute_result"
    }
   ],
   "source": [
    "r2_test_pred"
   ]
  },
  {
   "cell_type": "code",
   "execution_count": null,
   "metadata": {},
   "outputs": [],
   "source": [
    "#rf1 = RandomForestRegressor()\n",
    "#rf1.fit(X_train15, y_train15)\n",
    "#pred15 = rf1.predict(X_train15)"
   ]
  },
  {
   "cell_type": "code",
   "execution_count": null,
   "metadata": {},
   "outputs": [],
   "source": [
    "#plt.scatter(y_train15,  pred15)"
   ]
  },
  {
   "cell_type": "code",
   "execution_count": 65,
   "metadata": {},
   "outputs": [],
   "source": [
    "#test_pred15 = rf1.predict(X_test15)"
   ]
  },
  {
   "cell_type": "code",
   "execution_count": null,
   "metadata": {},
   "outputs": [],
   "source": [
    "#plt.scatter(y_test15,  test_pred15)"
   ]
  },
  {
   "cell_type": "code",
   "execution_count": null,
   "metadata": {},
   "outputs": [],
   "source": [
    "#rmse_test15 = np.sqrt(mean_squared_error(y_test15, test_pred15))\n",
    "#rmse_train15 = np.sqrt(mean_squared_error(y_train15, pred15))"
   ]
  },
  {
   "cell_type": "code",
   "execution_count": null,
   "metadata": {},
   "outputs": [],
   "source": [
    "#rmse_test15"
   ]
  },
  {
   "cell_type": "code",
   "execution_count": null,
   "metadata": {},
   "outputs": [],
   "source": [
    "#rmse_train15 = np.sqrt(mean_squared_error(y_train15, pred15))"
   ]
  },
  {
   "cell_type": "code",
   "execution_count": null,
   "metadata": {},
   "outputs": [],
   "source": [
    "rmse_test15 = r2_score(y_test15, test_pred15)\n",
    "rmse_train15 = r2_score(y_train15, pred15)"
   ]
  },
  {
   "cell_type": "code",
   "execution_count": null,
   "metadata": {
    "scrolled": true
   },
   "outputs": [],
   "source": [
    "print(\"R2 TRAIN SCORE %.2f, R2 TEST SCORE %.2f\"%(rmse_train15, rmse_test15))"
   ]
  },
  {
   "cell_type": "markdown",
   "metadata": {},
   "source": [
    "## Prédiction sur les données manquantes"
   ]
  },
  {
   "cell_type": "code",
   "execution_count": 66,
   "metadata": {},
   "outputs": [
    {
     "data": {
      "text/plain": [
       "Y15-24    1109\n",
       "Y25-49     300\n",
       "Y50-64     235\n",
       "Name: age, dtype: int64"
      ]
     },
     "execution_count": 66,
     "metadata": {},
     "output_type": "execute_result"
    }
   ],
   "source": [
    "#holding_dataset.age.value_counts()\n",
    "holdout_fr_age.age.value_counts()"
   ]
  },
  {
   "cell_type": "code",
   "execution_count": 68,
   "metadata": {},
   "outputs": [],
   "source": [
    "#holdout_df = get_df(holdout_fr_age, bin_age)"
   ]
  },
  {
   "cell_type": "code",
   "execution_count": 69,
   "metadata": {},
   "outputs": [
    {
     "name": "stderr",
     "output_type": "stream",
     "text": [
      "/opt/conda/lib/python3.7/site-packages/ipykernel_launcher.py:4: SettingWithCopyWarning: \n",
      "A value is trying to be set on a copy of a slice from a DataFrame.\n",
      "Try using .loc[row_indexer,col_indexer] = value instead\n",
      "\n",
      "See the caveats in the documentation: https://pandas.pydata.org/pandas-docs/stable/user_guide/indexing.html#returning-a-view-versus-a-copy\n",
      "  after removing the cwd from sys.path.\n"
     ]
    }
   ],
   "source": [
    "holdout_df_encod = encode_cols(holdout_fr_age)"
   ]
  },
  {
   "cell_type": "code",
   "execution_count": 70,
   "metadata": {},
   "outputs": [
    {
     "data": {
      "text/html": [
       "<div>\n",
       "<style scoped>\n",
       "    .dataframe tbody tr th:only-of-type {\n",
       "        vertical-align: middle;\n",
       "    }\n",
       "\n",
       "    .dataframe tbody tr th {\n",
       "        vertical-align: top;\n",
       "    }\n",
       "\n",
       "    .dataframe thead th {\n",
       "        text-align: right;\n",
       "    }\n",
       "</style>\n",
       "<table border=\"1\" class=\"dataframe\">\n",
       "  <thead>\n",
       "    <tr style=\"text-align: right;\">\n",
       "      <th></th>\n",
       "      <th>age</th>\n",
       "      <th>Année</th>\n",
       "      <th>code_pays</th>\n",
       "      <th>frequence</th>\n",
       "      <th>nom_pays</th>\n",
       "      <th>sexe</th>\n",
       "      <th>statut_w</th>\n",
       "      <th>unite</th>\n",
       "      <th>valeur_hors_inconnu</th>\n",
       "      <th>index</th>\n",
       "      <th>Valeur</th>\n",
       "      <th>age_encoded</th>\n",
       "      <th>frequence_NVR</th>\n",
       "      <th>frequence_SMT</th>\n",
       "      <th>frequence_USU</th>\n",
       "      <th>sexe_men</th>\n",
       "      <th>sexe_women</th>\n",
       "      <th>statut_w_CFAM</th>\n",
       "      <th>statut_w_EMP</th>\n",
       "      <th>statut_w_NCFAM</th>\n",
       "      <th>statut_w_NRP</th>\n",
       "      <th>statut_w_NSAL</th>\n",
       "      <th>statut_w_SAL</th>\n",
       "      <th>statut_w_SELF</th>\n",
       "      <th>statut_w_SELF_NS</th>\n",
       "      <th>statut_w_SELF_S</th>\n",
       "    </tr>\n",
       "  </thead>\n",
       "  <tbody>\n",
       "    <tr>\n",
       "      <th>0</th>\n",
       "      <td>Y15-24</td>\n",
       "      <td>01/01/1992</td>\n",
       "      <td>FR</td>\n",
       "      <td>NVR</td>\n",
       "      <td>France</td>\n",
       "      <td>women</td>\n",
       "      <td>CFAM</td>\n",
       "      <td>PC</td>\n",
       "      <td>Faux</td>\n",
       "      <td>335</td>\n",
       "      <td>888.0</td>\n",
       "      <td>0.0</td>\n",
       "      <td>1.0</td>\n",
       "      <td>0.0</td>\n",
       "      <td>0.0</td>\n",
       "      <td>0.0</td>\n",
       "      <td>1.0</td>\n",
       "      <td>1.0</td>\n",
       "      <td>0.0</td>\n",
       "      <td>0.0</td>\n",
       "      <td>0.0</td>\n",
       "      <td>0.0</td>\n",
       "      <td>0.0</td>\n",
       "      <td>0.0</td>\n",
       "      <td>0.0</td>\n",
       "      <td>0.0</td>\n",
       "    </tr>\n",
       "    <tr>\n",
       "      <th>1</th>\n",
       "      <td>Y15-24</td>\n",
       "      <td>01/01/1993</td>\n",
       "      <td>FR</td>\n",
       "      <td>NVR</td>\n",
       "      <td>France</td>\n",
       "      <td>women</td>\n",
       "      <td>CFAM</td>\n",
       "      <td>PC</td>\n",
       "      <td>Faux</td>\n",
       "      <td>335</td>\n",
       "      <td>888.0</td>\n",
       "      <td>0.0</td>\n",
       "      <td>1.0</td>\n",
       "      <td>0.0</td>\n",
       "      <td>0.0</td>\n",
       "      <td>0.0</td>\n",
       "      <td>1.0</td>\n",
       "      <td>1.0</td>\n",
       "      <td>0.0</td>\n",
       "      <td>0.0</td>\n",
       "      <td>0.0</td>\n",
       "      <td>0.0</td>\n",
       "      <td>0.0</td>\n",
       "      <td>0.0</td>\n",
       "      <td>0.0</td>\n",
       "      <td>0.0</td>\n",
       "    </tr>\n",
       "    <tr>\n",
       "      <th>2</th>\n",
       "      <td>Y15-24</td>\n",
       "      <td>01/01/1994</td>\n",
       "      <td>FR</td>\n",
       "      <td>NVR</td>\n",
       "      <td>France</td>\n",
       "      <td>women</td>\n",
       "      <td>CFAM</td>\n",
       "      <td>PC</td>\n",
       "      <td>Faux</td>\n",
       "      <td>335</td>\n",
       "      <td>888.0</td>\n",
       "      <td>0.0</td>\n",
       "      <td>1.0</td>\n",
       "      <td>0.0</td>\n",
       "      <td>0.0</td>\n",
       "      <td>0.0</td>\n",
       "      <td>1.0</td>\n",
       "      <td>1.0</td>\n",
       "      <td>0.0</td>\n",
       "      <td>0.0</td>\n",
       "      <td>0.0</td>\n",
       "      <td>0.0</td>\n",
       "      <td>0.0</td>\n",
       "      <td>0.0</td>\n",
       "      <td>0.0</td>\n",
       "      <td>0.0</td>\n",
       "    </tr>\n",
       "    <tr>\n",
       "      <th>3</th>\n",
       "      <td>Y15-24</td>\n",
       "      <td>01/01/1995</td>\n",
       "      <td>FR</td>\n",
       "      <td>NVR</td>\n",
       "      <td>France</td>\n",
       "      <td>women</td>\n",
       "      <td>CFAM</td>\n",
       "      <td>PC</td>\n",
       "      <td>Faux</td>\n",
       "      <td>335</td>\n",
       "      <td>888.0</td>\n",
       "      <td>0.0</td>\n",
       "      <td>1.0</td>\n",
       "      <td>0.0</td>\n",
       "      <td>0.0</td>\n",
       "      <td>0.0</td>\n",
       "      <td>1.0</td>\n",
       "      <td>1.0</td>\n",
       "      <td>0.0</td>\n",
       "      <td>0.0</td>\n",
       "      <td>0.0</td>\n",
       "      <td>0.0</td>\n",
       "      <td>0.0</td>\n",
       "      <td>0.0</td>\n",
       "      <td>0.0</td>\n",
       "      <td>0.0</td>\n",
       "    </tr>\n",
       "    <tr>\n",
       "      <th>4</th>\n",
       "      <td>Y15-24</td>\n",
       "      <td>01/01/1996</td>\n",
       "      <td>FR</td>\n",
       "      <td>NVR</td>\n",
       "      <td>France</td>\n",
       "      <td>women</td>\n",
       "      <td>CFAM</td>\n",
       "      <td>PC</td>\n",
       "      <td>Faux</td>\n",
       "      <td>335</td>\n",
       "      <td>888.0</td>\n",
       "      <td>0.0</td>\n",
       "      <td>1.0</td>\n",
       "      <td>0.0</td>\n",
       "      <td>0.0</td>\n",
       "      <td>0.0</td>\n",
       "      <td>1.0</td>\n",
       "      <td>1.0</td>\n",
       "      <td>0.0</td>\n",
       "      <td>0.0</td>\n",
       "      <td>0.0</td>\n",
       "      <td>0.0</td>\n",
       "      <td>0.0</td>\n",
       "      <td>0.0</td>\n",
       "      <td>0.0</td>\n",
       "      <td>0.0</td>\n",
       "    </tr>\n",
       "    <tr>\n",
       "      <th>...</th>\n",
       "      <td>...</td>\n",
       "      <td>...</td>\n",
       "      <td>...</td>\n",
       "      <td>...</td>\n",
       "      <td>...</td>\n",
       "      <td>...</td>\n",
       "      <td>...</td>\n",
       "      <td>...</td>\n",
       "      <td>...</td>\n",
       "      <td>...</td>\n",
       "      <td>...</td>\n",
       "      <td>...</td>\n",
       "      <td>...</td>\n",
       "      <td>...</td>\n",
       "      <td>...</td>\n",
       "      <td>...</td>\n",
       "      <td>...</td>\n",
       "      <td>...</td>\n",
       "      <td>...</td>\n",
       "      <td>...</td>\n",
       "      <td>...</td>\n",
       "      <td>...</td>\n",
       "      <td>...</td>\n",
       "      <td>...</td>\n",
       "      <td>...</td>\n",
       "      <td>...</td>\n",
       "    </tr>\n",
       "    <tr>\n",
       "      <th>1639</th>\n",
       "      <td>Y50-64</td>\n",
       "      <td>01/01/2001</td>\n",
       "      <td>FR</td>\n",
       "      <td>USU</td>\n",
       "      <td>France</td>\n",
       "      <td>men</td>\n",
       "      <td>SAL</td>\n",
       "      <td>PC</td>\n",
       "      <td>Faux</td>\n",
       "      <td>44246</td>\n",
       "      <td>888.0</td>\n",
       "      <td>2.0</td>\n",
       "      <td>0.0</td>\n",
       "      <td>0.0</td>\n",
       "      <td>1.0</td>\n",
       "      <td>1.0</td>\n",
       "      <td>0.0</td>\n",
       "      <td>0.0</td>\n",
       "      <td>0.0</td>\n",
       "      <td>0.0</td>\n",
       "      <td>0.0</td>\n",
       "      <td>0.0</td>\n",
       "      <td>1.0</td>\n",
       "      <td>0.0</td>\n",
       "      <td>0.0</td>\n",
       "      <td>0.0</td>\n",
       "    </tr>\n",
       "    <tr>\n",
       "      <th>1640</th>\n",
       "      <td>Y50-64</td>\n",
       "      <td>01/01/2002</td>\n",
       "      <td>FR</td>\n",
       "      <td>USU</td>\n",
       "      <td>France</td>\n",
       "      <td>men</td>\n",
       "      <td>SAL</td>\n",
       "      <td>PC</td>\n",
       "      <td>Faux</td>\n",
       "      <td>44246</td>\n",
       "      <td>888.0</td>\n",
       "      <td>2.0</td>\n",
       "      <td>0.0</td>\n",
       "      <td>0.0</td>\n",
       "      <td>1.0</td>\n",
       "      <td>1.0</td>\n",
       "      <td>0.0</td>\n",
       "      <td>0.0</td>\n",
       "      <td>0.0</td>\n",
       "      <td>0.0</td>\n",
       "      <td>0.0</td>\n",
       "      <td>0.0</td>\n",
       "      <td>1.0</td>\n",
       "      <td>0.0</td>\n",
       "      <td>0.0</td>\n",
       "      <td>0.0</td>\n",
       "    </tr>\n",
       "    <tr>\n",
       "      <th>1641</th>\n",
       "      <td>Y50-64</td>\n",
       "      <td>01/01/1993</td>\n",
       "      <td>FR</td>\n",
       "      <td>USU</td>\n",
       "      <td>France</td>\n",
       "      <td>men</td>\n",
       "      <td>SELF</td>\n",
       "      <td>PC</td>\n",
       "      <td>Faux</td>\n",
       "      <td>44285</td>\n",
       "      <td>888.0</td>\n",
       "      <td>2.0</td>\n",
       "      <td>0.0</td>\n",
       "      <td>0.0</td>\n",
       "      <td>1.0</td>\n",
       "      <td>1.0</td>\n",
       "      <td>0.0</td>\n",
       "      <td>0.0</td>\n",
       "      <td>0.0</td>\n",
       "      <td>0.0</td>\n",
       "      <td>0.0</td>\n",
       "      <td>0.0</td>\n",
       "      <td>0.0</td>\n",
       "      <td>1.0</td>\n",
       "      <td>0.0</td>\n",
       "      <td>0.0</td>\n",
       "    </tr>\n",
       "    <tr>\n",
       "      <th>1642</th>\n",
       "      <td>Y50-64</td>\n",
       "      <td>01/01/1993</td>\n",
       "      <td>FR</td>\n",
       "      <td>USU</td>\n",
       "      <td>France</td>\n",
       "      <td>men</td>\n",
       "      <td>SELF_NS</td>\n",
       "      <td>PC</td>\n",
       "      <td>Faux</td>\n",
       "      <td>44324</td>\n",
       "      <td>888.0</td>\n",
       "      <td>2.0</td>\n",
       "      <td>0.0</td>\n",
       "      <td>0.0</td>\n",
       "      <td>1.0</td>\n",
       "      <td>1.0</td>\n",
       "      <td>0.0</td>\n",
       "      <td>0.0</td>\n",
       "      <td>0.0</td>\n",
       "      <td>0.0</td>\n",
       "      <td>0.0</td>\n",
       "      <td>0.0</td>\n",
       "      <td>0.0</td>\n",
       "      <td>0.0</td>\n",
       "      <td>1.0</td>\n",
       "      <td>0.0</td>\n",
       "    </tr>\n",
       "    <tr>\n",
       "      <th>1643</th>\n",
       "      <td>Y50-64</td>\n",
       "      <td>01/01/1992</td>\n",
       "      <td>FR</td>\n",
       "      <td>USU</td>\n",
       "      <td>France</td>\n",
       "      <td>men</td>\n",
       "      <td>SELF_S</td>\n",
       "      <td>PC</td>\n",
       "      <td>Faux</td>\n",
       "      <td>44363</td>\n",
       "      <td>888.0</td>\n",
       "      <td>2.0</td>\n",
       "      <td>0.0</td>\n",
       "      <td>0.0</td>\n",
       "      <td>1.0</td>\n",
       "      <td>1.0</td>\n",
       "      <td>0.0</td>\n",
       "      <td>0.0</td>\n",
       "      <td>0.0</td>\n",
       "      <td>0.0</td>\n",
       "      <td>0.0</td>\n",
       "      <td>0.0</td>\n",
       "      <td>0.0</td>\n",
       "      <td>0.0</td>\n",
       "      <td>0.0</td>\n",
       "      <td>1.0</td>\n",
       "    </tr>\n",
       "  </tbody>\n",
       "</table>\n",
       "<p>1644 rows × 26 columns</p>\n",
       "</div>"
      ],
      "text/plain": [
       "         age       Année code_pays frequence nom_pays   sexe statut_w unite  \\\n",
       "0     Y15-24  01/01/1992        FR       NVR   France  women     CFAM    PC   \n",
       "1     Y15-24  01/01/1993        FR       NVR   France  women     CFAM    PC   \n",
       "2     Y15-24  01/01/1994        FR       NVR   France  women     CFAM    PC   \n",
       "3     Y15-24  01/01/1995        FR       NVR   France  women     CFAM    PC   \n",
       "4     Y15-24  01/01/1996        FR       NVR   France  women     CFAM    PC   \n",
       "...      ...         ...       ...       ...      ...    ...      ...   ...   \n",
       "1639  Y50-64  01/01/2001        FR       USU   France    men      SAL    PC   \n",
       "1640  Y50-64  01/01/2002        FR       USU   France    men      SAL    PC   \n",
       "1641  Y50-64  01/01/1993        FR       USU   France    men     SELF    PC   \n",
       "1642  Y50-64  01/01/1993        FR       USU   France    men  SELF_NS    PC   \n",
       "1643  Y50-64  01/01/1992        FR       USU   France    men   SELF_S    PC   \n",
       "\n",
       "     valeur_hors_inconnu  index  Valeur  age_encoded  frequence_NVR  \\\n",
       "0                   Faux    335   888.0          0.0            1.0   \n",
       "1                   Faux    335   888.0          0.0            1.0   \n",
       "2                   Faux    335   888.0          0.0            1.0   \n",
       "3                   Faux    335   888.0          0.0            1.0   \n",
       "4                   Faux    335   888.0          0.0            1.0   \n",
       "...                  ...    ...     ...          ...            ...   \n",
       "1639                Faux  44246   888.0          2.0            0.0   \n",
       "1640                Faux  44246   888.0          2.0            0.0   \n",
       "1641                Faux  44285   888.0          2.0            0.0   \n",
       "1642                Faux  44324   888.0          2.0            0.0   \n",
       "1643                Faux  44363   888.0          2.0            0.0   \n",
       "\n",
       "      frequence_SMT  frequence_USU  sexe_men  sexe_women  statut_w_CFAM  \\\n",
       "0               0.0            0.0       0.0         1.0            1.0   \n",
       "1               0.0            0.0       0.0         1.0            1.0   \n",
       "2               0.0            0.0       0.0         1.0            1.0   \n",
       "3               0.0            0.0       0.0         1.0            1.0   \n",
       "4               0.0            0.0       0.0         1.0            1.0   \n",
       "...             ...            ...       ...         ...            ...   \n",
       "1639            0.0            1.0       1.0         0.0            0.0   \n",
       "1640            0.0            1.0       1.0         0.0            0.0   \n",
       "1641            0.0            1.0       1.0         0.0            0.0   \n",
       "1642            0.0            1.0       1.0         0.0            0.0   \n",
       "1643            0.0            1.0       1.0         0.0            0.0   \n",
       "\n",
       "      statut_w_EMP  statut_w_NCFAM  statut_w_NRP  statut_w_NSAL  statut_w_SAL  \\\n",
       "0              0.0             0.0           0.0            0.0           0.0   \n",
       "1              0.0             0.0           0.0            0.0           0.0   \n",
       "2              0.0             0.0           0.0            0.0           0.0   \n",
       "3              0.0             0.0           0.0            0.0           0.0   \n",
       "4              0.0             0.0           0.0            0.0           0.0   \n",
       "...            ...             ...           ...            ...           ...   \n",
       "1639           0.0             0.0           0.0            0.0           1.0   \n",
       "1640           0.0             0.0           0.0            0.0           1.0   \n",
       "1641           0.0             0.0           0.0            0.0           0.0   \n",
       "1642           0.0             0.0           0.0            0.0           0.0   \n",
       "1643           0.0             0.0           0.0            0.0           0.0   \n",
       "\n",
       "      statut_w_SELF  statut_w_SELF_NS  statut_w_SELF_S  \n",
       "0               0.0               0.0              0.0  \n",
       "1               0.0               0.0              0.0  \n",
       "2               0.0               0.0              0.0  \n",
       "3               0.0               0.0              0.0  \n",
       "4               0.0               0.0              0.0  \n",
       "...             ...               ...              ...  \n",
       "1639            0.0               0.0              0.0  \n",
       "1640            0.0               0.0              0.0  \n",
       "1641            1.0               0.0              0.0  \n",
       "1642            0.0               1.0              0.0  \n",
       "1643            0.0               0.0              1.0  \n",
       "\n",
       "[1644 rows x 26 columns]"
      ]
     },
     "execution_count": 70,
     "metadata": {},
     "output_type": "execute_result"
    }
   ],
   "source": [
    "holdout_df_encod"
   ]
  },
  {
   "cell_type": "code",
   "execution_count": 71,
   "metadata": {},
   "outputs": [],
   "source": [
    "y_holdout = rf.predict(holdout_df_encod[colonne_utiles])"
   ]
  },
  {
   "cell_type": "code",
   "execution_count": 72,
   "metadata": {},
   "outputs": [
    {
     "data": {
      "text/plain": [
       "1644"
      ]
     },
     "execution_count": 72,
     "metadata": {},
     "output_type": "execute_result"
    }
   ],
   "source": [
    "len(y_holdout)"
   ]
  },
  {
   "cell_type": "code",
   "execution_count": 73,
   "metadata": {},
   "outputs": [
    {
     "data": {
      "text/plain": [
       "1644"
      ]
     },
     "execution_count": 73,
     "metadata": {},
     "output_type": "execute_result"
    }
   ],
   "source": [
    "holdout_df_encod.shape[0]"
   ]
  },
  {
   "cell_type": "code",
   "execution_count": null,
   "metadata": {},
   "outputs": [],
   "source": [
    "holdout15 = get_df(holding_dataset, ['Y_GE15'])"
   ]
  },
  {
   "cell_type": "code",
   "execution_count": null,
   "metadata": {},
   "outputs": [],
   "source": [
    "holdout15.head()"
   ]
  },
  {
   "cell_type": "code",
   "execution_count": null,
   "metadata": {},
   "outputs": [],
   "source": [
    "holdout15_enc = encode_cols(holdout15)"
   ]
  },
  {
   "cell_type": "code",
   "execution_count": null,
   "metadata": {},
   "outputs": [],
   "source": [
    "holdout15.statut_w.value_counts()"
   ]
  },
  {
   "cell_type": "code",
   "execution_count": null,
   "metadata": {},
   "outputs": [],
   "source": [
    "dataset_age"
   ]
  },
  {
   "cell_type": "code",
   "execution_count": null,
   "metadata": {},
   "outputs": [],
   "source": [
    "dataset_df\n",
    "dataset_df_vrai_age_enc.head()"
   ]
  },
  {
   "cell_type": "code",
   "execution_count": null,
   "metadata": {},
   "outputs": [],
   "source": [
    "df_series = dataset_df_vrai_age_enc.copy()\n",
    "annees = df_series.Année.str.split('/', expand=True)[2].values\n",
    "def id_x(x):\n",
    "    return x\n",
    "grouped = df_series.groupby(['Année', 'age', 'frequence', 'sexe', 'statut_w']).agg({'Valeur': id_x})"
   ]
  },
  {
   "cell_type": "code",
   "execution_count": null,
   "metadata": {},
   "outputs": [],
   "source": [
    "df_series.age.value_counts()"
   ]
  },
  {
   "cell_type": "code",
   "execution_count": null,
   "metadata": {},
   "outputs": [],
   "source": [
    "plt.plot(df_series.Valeur)"
   ]
  },
  {
   "cell_type": "code",
   "execution_count": null,
   "metadata": {},
   "outputs": [],
   "source": [
    "annees = df_series.Année.str.split('/', expand=True)[2].values"
   ]
  },
  {
   "cell_type": "code",
   "execution_count": null,
   "metadata": {},
   "outputs": [],
   "source": [
    "df_series['Année'] = annees.astype(int)"
   ]
  },
  {
   "cell_type": "code",
   "execution_count": null,
   "metadata": {},
   "outputs": [],
   "source": [
    "df_series = df_series.sort_values(by=['Année', ])"
   ]
  },
  {
   "cell_type": "code",
   "execution_count": null,
   "metadata": {},
   "outputs": [],
   "source": [
    "nvr_df = df_series[df_series.frequence == 'NVR']\n"
   ]
  },
  {
   "cell_type": "code",
   "execution_count": null,
   "metadata": {},
   "outputs": [],
   "source": [
    "def id_x(x):\n",
    "    return x"
   ]
  },
  {
   "cell_type": "code",
   "execution_count": null,
   "metadata": {},
   "outputs": [],
   "source": [
    "grouped = df_series.groupby(['Année', 'age', 'frequence', 'sexe', 'statut_w']).agg({'Valeur': id_x})"
   ]
  },
  {
   "cell_type": "code",
   "execution_count": null,
   "metadata": {},
   "outputs": [],
   "source": [
    "grouped"
   ]
  },
  {
   "cell_type": "code",
   "execution_count": 94,
   "metadata": {},
   "outputs": [],
   "source": [
    "pd.set_option('display.max_rows', grouped.shape[0]+1)"
   ]
  },
  {
   "cell_type": "code",
   "execution_count": null,
   "metadata": {},
   "outputs": [],
   "source": [
    "plt.plot(grouped.Valeur.values)"
   ]
  },
  {
   "cell_type": "code",
   "execution_count": 74,
   "metadata": {},
   "outputs": [],
   "source": [
    "index_ = dataset_fr_age[dataset_fr_age['valeur_hors_inconnu'] == 'Faux'].index"
   ]
  },
  {
   "cell_type": "code",
   "execution_count": 81,
   "metadata": {},
   "outputs": [
    {
     "data": {
      "text/plain": [
       "Int64Index([ 150080,  150081,  150082,  150083,  150084,  150085,  150086,\n",
       "             150087,  150088,  150089,\n",
       "            ...\n",
       "            1379592, 1379593, 1379594, 1379595, 1379596, 1379597, 1379598,\n",
       "            1380681, 1381773, 1382864],\n",
       "           dtype='int64', length=1644)"
      ]
     },
     "execution_count": 81,
     "metadata": {},
     "output_type": "execute_result"
    }
   ],
   "source": [
    "index_"
   ]
  },
  {
   "cell_type": "code",
   "execution_count": 82,
   "metadata": {},
   "outputs": [
    {
     "data": {
      "text/plain": [
       "1644"
      ]
     },
     "execution_count": 82,
     "metadata": {},
     "output_type": "execute_result"
    }
   ],
   "source": [
    "len(y_holdout)"
   ]
  },
  {
   "cell_type": "code",
   "execution_count": 80,
   "metadata": {},
   "outputs": [
    {
     "data": {
      "text/plain": [
       "Int64Index([ 150080,  150081,  150082,  150083,  150084,  150085,  150086,\n",
       "             150087,  150088,  150089,\n",
       "            ...\n",
       "            1382882, 1382883, 1382884, 1382885, 1382886, 1382887, 1382888,\n",
       "            1382889, 1382890, 1382891],\n",
       "           dtype='int64', length=4228)"
      ]
     },
     "execution_count": 80,
     "metadata": {},
     "output_type": "execute_result"
    }
   ],
   "source": [
    "dataset_fr_age.index"
   ]
  },
  {
   "cell_type": "code",
   "execution_count": 77,
   "metadata": {},
   "outputs": [
    {
     "data": {
      "text/html": [
       "<div>\n",
       "<style scoped>\n",
       "    .dataframe tbody tr th:only-of-type {\n",
       "        vertical-align: middle;\n",
       "    }\n",
       "\n",
       "    .dataframe tbody tr th {\n",
       "        vertical-align: top;\n",
       "    }\n",
       "\n",
       "    .dataframe thead th {\n",
       "        text-align: right;\n",
       "    }\n",
       "</style>\n",
       "<table border=\"1\" class=\"dataframe\">\n",
       "  <thead>\n",
       "    <tr style=\"text-align: right;\">\n",
       "      <th></th>\n",
       "      <th>age</th>\n",
       "      <th>Année</th>\n",
       "      <th>code_pays</th>\n",
       "      <th>frequence</th>\n",
       "      <th>nom_pays</th>\n",
       "      <th>sexe</th>\n",
       "      <th>statut_w</th>\n",
       "      <th>unite</th>\n",
       "      <th>valeur_hors_inconnu</th>\n",
       "      <th>index</th>\n",
       "      <th>Valeur</th>\n",
       "    </tr>\n",
       "  </thead>\n",
       "  <tbody>\n",
       "    <tr>\n",
       "      <th>150080</th>\n",
       "      <td>Y15-24</td>\n",
       "      <td>01/01/1992</td>\n",
       "      <td>FR</td>\n",
       "      <td>NVR</td>\n",
       "      <td>France</td>\n",
       "      <td>women</td>\n",
       "      <td>CFAM</td>\n",
       "      <td>PC</td>\n",
       "      <td>Faux</td>\n",
       "      <td>335</td>\n",
       "      <td>888.0</td>\n",
       "    </tr>\n",
       "    <tr>\n",
       "      <th>150081</th>\n",
       "      <td>Y15-24</td>\n",
       "      <td>01/01/1993</td>\n",
       "      <td>FR</td>\n",
       "      <td>NVR</td>\n",
       "      <td>France</td>\n",
       "      <td>women</td>\n",
       "      <td>CFAM</td>\n",
       "      <td>PC</td>\n",
       "      <td>Faux</td>\n",
       "      <td>335</td>\n",
       "      <td>888.0</td>\n",
       "    </tr>\n",
       "    <tr>\n",
       "      <th>150082</th>\n",
       "      <td>Y15-24</td>\n",
       "      <td>01/01/1994</td>\n",
       "      <td>FR</td>\n",
       "      <td>NVR</td>\n",
       "      <td>France</td>\n",
       "      <td>women</td>\n",
       "      <td>CFAM</td>\n",
       "      <td>PC</td>\n",
       "      <td>Faux</td>\n",
       "      <td>335</td>\n",
       "      <td>888.0</td>\n",
       "    </tr>\n",
       "    <tr>\n",
       "      <th>150083</th>\n",
       "      <td>Y15-24</td>\n",
       "      <td>01/01/1995</td>\n",
       "      <td>FR</td>\n",
       "      <td>NVR</td>\n",
       "      <td>France</td>\n",
       "      <td>women</td>\n",
       "      <td>CFAM</td>\n",
       "      <td>PC</td>\n",
       "      <td>Faux</td>\n",
       "      <td>335</td>\n",
       "      <td>888.0</td>\n",
       "    </tr>\n",
       "    <tr>\n",
       "      <th>150084</th>\n",
       "      <td>Y15-24</td>\n",
       "      <td>01/01/1996</td>\n",
       "      <td>FR</td>\n",
       "      <td>NVR</td>\n",
       "      <td>France</td>\n",
       "      <td>women</td>\n",
       "      <td>CFAM</td>\n",
       "      <td>PC</td>\n",
       "      <td>Faux</td>\n",
       "      <td>335</td>\n",
       "      <td>888.0</td>\n",
       "    </tr>\n",
       "  </tbody>\n",
       "</table>\n",
       "</div>"
      ],
      "text/plain": [
       "           age       Année code_pays frequence nom_pays   sexe statut_w unite  \\\n",
       "150080  Y15-24  01/01/1992        FR       NVR   France  women     CFAM    PC   \n",
       "150081  Y15-24  01/01/1993        FR       NVR   France  women     CFAM    PC   \n",
       "150082  Y15-24  01/01/1994        FR       NVR   France  women     CFAM    PC   \n",
       "150083  Y15-24  01/01/1995        FR       NVR   France  women     CFAM    PC   \n",
       "150084  Y15-24  01/01/1996        FR       NVR   France  women     CFAM    PC   \n",
       "\n",
       "       valeur_hors_inconnu  index  Valeur  \n",
       "150080                Faux    335   888.0  \n",
       "150081                Faux    335   888.0  \n",
       "150082                Faux    335   888.0  \n",
       "150083                Faux    335   888.0  \n",
       "150084                Faux    335   888.0  "
      ]
     },
     "execution_count": 77,
     "metadata": {},
     "output_type": "execute_result"
    }
   ],
   "source": [
    "dataset_fr_age.head()"
   ]
  },
  {
   "cell_type": "code",
   "execution_count": 88,
   "metadata": {},
   "outputs": [],
   "source": [
    "dataset_fr_age.loc[index_,   'Valeur'] = y_holdout"
   ]
  },
  {
   "cell_type": "code",
   "execution_count": 91,
   "metadata": {},
   "outputs": [
    {
     "data": {
      "text/html": [
       "<div>\n",
       "<style scoped>\n",
       "    .dataframe tbody tr th:only-of-type {\n",
       "        vertical-align: middle;\n",
       "    }\n",
       "\n",
       "    .dataframe tbody tr th {\n",
       "        vertical-align: top;\n",
       "    }\n",
       "\n",
       "    .dataframe thead th {\n",
       "        text-align: right;\n",
       "    }\n",
       "</style>\n",
       "<table border=\"1\" class=\"dataframe\">\n",
       "  <thead>\n",
       "    <tr style=\"text-align: right;\">\n",
       "      <th></th>\n",
       "      <th>age</th>\n",
       "      <th>Année</th>\n",
       "      <th>code_pays</th>\n",
       "      <th>frequence</th>\n",
       "      <th>nom_pays</th>\n",
       "      <th>sexe</th>\n",
       "      <th>statut_w</th>\n",
       "      <th>unite</th>\n",
       "      <th>valeur_hors_inconnu</th>\n",
       "      <th>index</th>\n",
       "      <th>Valeur</th>\n",
       "      <th>Valueur</th>\n",
       "    </tr>\n",
       "  </thead>\n",
       "  <tbody>\n",
       "    <tr>\n",
       "      <th>150080</th>\n",
       "      <td>Y15-24</td>\n",
       "      <td>01/01/1992</td>\n",
       "      <td>FR</td>\n",
       "      <td>NVR</td>\n",
       "      <td>France</td>\n",
       "      <td>women</td>\n",
       "      <td>CFAM</td>\n",
       "      <td>PC</td>\n",
       "      <td>Faux</td>\n",
       "      <td>335</td>\n",
       "      <td>92.488614</td>\n",
       "      <td>92.488614</td>\n",
       "    </tr>\n",
       "    <tr>\n",
       "      <th>150081</th>\n",
       "      <td>Y15-24</td>\n",
       "      <td>01/01/1993</td>\n",
       "      <td>FR</td>\n",
       "      <td>NVR</td>\n",
       "      <td>France</td>\n",
       "      <td>women</td>\n",
       "      <td>CFAM</td>\n",
       "      <td>PC</td>\n",
       "      <td>Faux</td>\n",
       "      <td>335</td>\n",
       "      <td>92.488614</td>\n",
       "      <td>92.488614</td>\n",
       "    </tr>\n",
       "    <tr>\n",
       "      <th>150082</th>\n",
       "      <td>Y15-24</td>\n",
       "      <td>01/01/1994</td>\n",
       "      <td>FR</td>\n",
       "      <td>NVR</td>\n",
       "      <td>France</td>\n",
       "      <td>women</td>\n",
       "      <td>CFAM</td>\n",
       "      <td>PC</td>\n",
       "      <td>Faux</td>\n",
       "      <td>335</td>\n",
       "      <td>92.488614</td>\n",
       "      <td>92.488614</td>\n",
       "    </tr>\n",
       "    <tr>\n",
       "      <th>150083</th>\n",
       "      <td>Y15-24</td>\n",
       "      <td>01/01/1995</td>\n",
       "      <td>FR</td>\n",
       "      <td>NVR</td>\n",
       "      <td>France</td>\n",
       "      <td>women</td>\n",
       "      <td>CFAM</td>\n",
       "      <td>PC</td>\n",
       "      <td>Faux</td>\n",
       "      <td>335</td>\n",
       "      <td>92.488614</td>\n",
       "      <td>92.488614</td>\n",
       "    </tr>\n",
       "    <tr>\n",
       "      <th>150084</th>\n",
       "      <td>Y15-24</td>\n",
       "      <td>01/01/1996</td>\n",
       "      <td>FR</td>\n",
       "      <td>NVR</td>\n",
       "      <td>France</td>\n",
       "      <td>women</td>\n",
       "      <td>CFAM</td>\n",
       "      <td>PC</td>\n",
       "      <td>Faux</td>\n",
       "      <td>335</td>\n",
       "      <td>92.488614</td>\n",
       "      <td>92.488614</td>\n",
       "    </tr>\n",
       "  </tbody>\n",
       "</table>\n",
       "</div>"
      ],
      "text/plain": [
       "           age       Année code_pays frequence nom_pays   sexe statut_w unite  \\\n",
       "150080  Y15-24  01/01/1992        FR       NVR   France  women     CFAM    PC   \n",
       "150081  Y15-24  01/01/1993        FR       NVR   France  women     CFAM    PC   \n",
       "150082  Y15-24  01/01/1994        FR       NVR   France  women     CFAM    PC   \n",
       "150083  Y15-24  01/01/1995        FR       NVR   France  women     CFAM    PC   \n",
       "150084  Y15-24  01/01/1996        FR       NVR   France  women     CFAM    PC   \n",
       "\n",
       "       valeur_hors_inconnu  index     Valeur    Valueur  \n",
       "150080                Faux    335  92.488614  92.488614  \n",
       "150081                Faux    335  92.488614  92.488614  \n",
       "150082                Faux    335  92.488614  92.488614  \n",
       "150083                Faux    335  92.488614  92.488614  \n",
       "150084                Faux    335  92.488614  92.488614  "
      ]
     },
     "execution_count": 91,
     "metadata": {},
     "output_type": "execute_result"
    }
   ],
   "source": [
    "dataset_fr_age[dataset_fr_age['valeur_hors_inconnu'] == 'Faux'].head()"
   ]
  },
  {
   "cell_type": "markdown",
   "metadata": {},
   "source": [
    "##  Séries temporelles"
   ]
  },
  {
   "cell_type": "code",
   "execution_count": 100,
   "metadata": {},
   "outputs": [],
   "source": [
    "df_series = dataset_fr_age.copy()\n",
    "annees = df_series.Année.str.split('/', expand=True)[2].values \n",
    "df_series['Année'] = annees\n",
    "def id_x(x):\n",
    "    return x\n",
    "grouped = df_series.groupby(['Année', 'age', 'frequence', 'sexe', 'statut_w']).agg({'Valeur': id_x})"
   ]
  },
  {
   "cell_type": "code",
   "execution_count": 103,
   "metadata": {},
   "outputs": [],
   "source": [
    "grouped = grouped.reset_index()\n"
   ]
  },
  {
   "cell_type": "code",
   "execution_count": 114,
   "metadata": {},
   "outputs": [],
   "source": [
    "age_freq_sexe_statut = grouped[(grouped['age'] == 'Y25-49') &\\\n",
    "                               (grouped['frequence'] == 'NVR') & (grouped['sexe'] == 'women') & \\\n",
    "                               (grouped['statut_w'] == 'SAL')]"
   ]
  },
  {
   "cell_type": "code",
   "execution_count": 115,
   "metadata": {},
   "outputs": [
    {
     "data": {
      "text/plain": [
       "28"
      ]
     },
     "execution_count": 115,
     "metadata": {},
     "output_type": "execute_result"
    }
   ],
   "source": [
    "len(age_freq_sexe_statut)"
   ]
  },
  {
   "cell_type": "code",
   "execution_count": 116,
   "metadata": {},
   "outputs": [
    {
     "data": {
      "text/plain": [
       "[<matplotlib.lines.Line2D at 0x7fa509272fd0>]"
      ]
     },
     "execution_count": 116,
     "metadata": {},
     "output_type": "execute_result"
    },
    {
     "data": {
      "image/png": "[encoded data removed]",
      "text/plain": [
       "<Figure size 432x288 with 1 Axes>"
      ]
     },
     "metadata": {
      "needs_background": "light"
     },
     "output_type": "display_data"
    }
   ],
   "source": [
    "plt.plot(age_freq_sexe_statut.Valeur)"
   ]
  },
  {
   "cell_type": "code",
   "execution_count": 147,
   "metadata": {},
   "outputs": [],
   "source": [
    "age_freq_sexe_statut_smt = grouped[(grouped['age'] == 'Y25-49') &\\\n",
    "                                   (grouped['frequence'] == 'SMT') &\\\n",
    "                                   (grouped['sexe'] == 'women') &\\\n",
    "                                   (grouped['statut_w'] == 'SAL')]"
   ]
  },
  {
   "cell_type": "code",
   "execution_count": 148,
   "metadata": {},
   "outputs": [
    {
     "data": {
      "image/png": "[encoded data removed]",
      "text/plain": [
       "<Figure size 864x720 with 1 Axes>"
      ]
     },
     "metadata": {
      "needs_background": "light"
     },
     "output_type": "display_data"
    }
   ],
   "source": [
    "fig = plt.figure(figsize=(12, 10))\n",
    "plt.plot(age_freq_sexe_statut.Année, age_freq_sexe_statut_smt.Valeur)\n",
    "annee = age_freq_sexe_statut.Année.values\n",
    "fig.autofmt_xdate(rotation=45)"
   ]
  },
  {
   "cell_type": "code",
   "execution_count": 118,
   "metadata": {},
   "outputs": [
    {
     "data": {
      "text/plain": [
       "matplotlib.axes._subplots.AxesSubplot"
      ]
     },
     "execution_count": 118,
     "metadata": {},
     "output_type": "execute_result"
    },
    {
     "data": {
      "image/png": "[encoded data removed]",
      "text/plain": [
       "<Figure size 432x288 with 1 Axes>"
      ]
     },
     "metadata": {
      "needs_background": "light"
     },
     "output_type": "display_data"
    }
   ],
   "source": []
  },
  {
   "cell_type": "code",
   "execution_count": 150,
   "metadata": {},
   "outputs": [],
   "source": [
    "from statsmodels.tsa.arima_model import ARIMA"
   ]
  },
  {
   "cell_type": "code",
   "execution_count": 160,
   "metadata": {},
   "outputs": [
    {
     "name": "stderr",
     "output_type": "stream",
     "text": [
      "/opt/conda/lib/python3.7/site-packages/ipykernel_launcher.py:1: SettingWithCopyWarning: \n",
      "A value is trying to be set on a copy of a slice from a DataFrame.\n",
      "Try using .loc[row_indexer,col_indexer] = value instead\n",
      "\n",
      "See the caveats in the documentation: https://pandas.pydata.org/pandas-docs/stable/user_guide/indexing.html#returning-a-view-versus-a-copy\n",
      "  \"\"\"Entry point for launching an IPython kernel.\n"
     ]
    }
   ],
   "source": [
    "age_freq_sexe_statut_smt['Année'] = age_freq_sexe_statut_smt['Année'].astype(int)"
   ]
  },
  {
   "cell_type": "code",
   "execution_count": 162,
   "metadata": {},
   "outputs": [],
   "source": [
    "X = age_freq_sexe_statut_smt[age_freq_sexe_statut_smt['Année'] >= 2003]['Valeur'].values"
   ]
  },
  {
   "cell_type": "code",
   "execution_count": 164,
   "metadata": {},
   "outputs": [
    {
     "data": {
      "image/png": "[encoded data removed]",
      "text/plain": [
       "<Figure size 864x720 with 1 Axes>"
      ]
     },
     "metadata": {
      "needs_background": "light"
     },
     "output_type": "display_data"
    }
   ],
   "source": [
    "fig = plt.figure(figsize=(12, 10))\n",
    "plt.plot(X)\n",
    "annee = age_freq_sexe_statut.Année.values\n",
    "fig.autofmt_xdate(rotation=45)"
   ]
  },
  {
   "cell_type": "code",
   "execution_count": 185,
   "metadata": {},
   "outputs": [
    {
     "data": {
      "text/plain": [
       "array([ 5.6,  5.7,  5.4,  5.4,  5.6,  6. ,  6.3,  6.7,  7.1,  6.8, 10.2,\n",
       "       10.9, 11.4, 12.9, 12.5, 13.1, 15.2])"
      ]
     },
     "execution_count": 185,
     "metadata": {},
     "output_type": "execute_result"
    }
   ],
   "source": [
    "X"
   ]
  },
  {
   "cell_type": "code",
   "execution_count": 188,
   "metadata": {},
   "outputs": [],
   "source": [
    "from statsmodels.tsa.stattools import adfuller\n",
    "def test_stationarity(timeseries):\n",
    "\n",
    "    #Determing rolling statistics\n",
    "    #df['MA'] = df['pop'].rolling(window=5,center=False).mean()\n",
    "    rolmean = pd.Series(timeseries).rolling(window=12).mean()\n",
    "    rolstd = pd.Series(timeseries).rolling(window=12).std()\n",
    "\n",
    "    #Plot rolling statistics:\n",
    "    fig = plt.figure(figsize=(12, 8))\n",
    "    orig = plt.plot(timeseries, color='blue',label='Original')\n",
    "    mean = plt.plot(rolmean, color='red', label='Rolling Mean')\n",
    "    std = plt.plot(rolstd, color='black', label = 'Rolling Std')\n",
    "    plt.legend(loc='best')\n",
    "    plt.title('Rolling Mean & Standard Deviation')\n",
    "    plt.show()\n",
    "    \n",
    "    #Perform Dickey-Fuller test:\n",
    "    print('Results of Dickey-Fuller Test:')\n",
    "    dftest = adfuller(timeseries, autolag='AIC')\n",
    "    dfoutput = pd.Series(dftest[0:4], index=['Test Statistic','p-value','#Lags Used','Number of Observations Used'])\n",
    "    for key,value in dftest[4].items():\n",
    "        dfoutput['Critical Value (%s)'%key] = value\n",
    "    print(dfoutput)"
   ]
  },
  {
   "cell_type": "code",
   "execution_count": 189,
   "metadata": {},
   "outputs": [
    {
     "data": {
      "image/png": "[encoded data removed]",
      "text/plain": [
       "<Figure size 864x576 with 1 Axes>"
      ]
     },
     "metadata": {
      "needs_background": "light"
     },
     "output_type": "display_data"
    },
    {
     "name": "stdout",
     "output_type": "stream",
     "text": [
      "Results of Dickey-Fuller Test:\n",
      "Test Statistic                  0.934015\n",
      "p-value                         0.993519\n",
      "#Lags Used                      0.000000\n",
      "Number of Observations Used    16.000000\n",
      "Critical Value (1%)            -3.924019\n",
      "Critical Value (5%)            -3.068498\n",
      "Critical Value (10%)           -2.673893\n",
      "dtype: float64\n"
     ]
    }
   ],
   "source": [
    "test_stationarity(X)"
   ]
  },
  {
   "cell_type": "code",
   "execution_count": 205,
   "metadata": {},
   "outputs": [
    {
     "name": "stdout",
     "output_type": "stream",
     "text": [
      "predicted=11.099518, expected=10.900000\n",
      "predicted=14.218202, expected=11.400000\n",
      "predicted=12.092488, expected=12.900000\n",
      "predicted=14.032464, expected=12.500000\n",
      "predicted=13.240121, expected=13.100000\n",
      "predicted=13.162521, expected=15.200000\n",
      "Test MSE: 2.526\n"
     ]
    },
    {
     "data": {
      "image/png": "[encoded data removed]",
      "text/plain": [
       "<Figure size 432x288 with 1 Axes>"
      ]
     },
     "metadata": {
      "needs_background": "light"
     },
     "output_type": "display_data"
    }
   ],
   "source": [
    "X = age_freq_sexe_statut_smt[age_freq_sexe_statut_smt['Année'] >= 2003]['Valeur'].values\n",
    "\n",
    "size = int(len(X) * 0.66)\n",
    "train, test = X[0:size], X[size:len(X)]\n",
    "history = [x for x in train]\n",
    "predictions = list()\n",
    "for t in range(len(test)):\n",
    "    model = ARIMA(history, order=(1, 2, 0))\n",
    "    model_fit = model.fit(disp=1)\n",
    "    output = model_fit.forecast()\n",
    "    yhat = output[0]\n",
    "    predictions.append(yhat)\n",
    "    obs = test[t]\n",
    "    history.append(obs)\n",
    "    print('predicted=%f, expected=%f' % (yhat, obs))\n",
    "error = mean_squared_error(test, predictions)\n",
    "print('Test MSE: %.3f' % error)\n",
    "# plot\n",
    "plt.plot(test, label='true')\n",
    "plt.plot(predictions, color='red',  label='prédict')\n",
    "plt.legend()\n",
    "plt.show()"
   ]
  },
  {
   "cell_type": "code",
   "execution_count": 221,
   "metadata": {},
   "outputs": [
    {
     "name": "stdout",
     "output_type": "stream",
     "text": [
      "                             ARIMA Model Results                              \n",
      "==============================================================================\n",
      "Dep. Variable:                    D.y   No. Observations:                   16\n",
      "Model:                 ARIMA(5, 1, 0)   Log Likelihood                 -20.498\n",
      "Method:                       css-mle   S.D. of innovations              0.855\n",
      "Date:                Thu, 09 Jul 2020   AIC                             54.995\n",
      "Time:                        16:03:49   BIC                             60.404\n",
      "Sample:                             1   HQIC                            55.272\n",
      "                                                                              \n",
      "==============================================================================\n",
      "                 coef    std err          z      P>|z|      [0.025      0.975]\n",
      "------------------------------------------------------------------------------\n",
      "const          0.5804      0.221      2.622      0.009       0.147       1.014\n",
      "ar.L1.D.y     -0.0420      0.262     -0.160      0.873      -0.555       0.471\n",
      "ar.L2.D.y     -0.0469      0.260     -0.180      0.857      -0.557       0.463\n",
      "ar.L3.D.y      0.2872      0.250      1.150      0.250      -0.202       0.777\n",
      "ar.L4.D.y     -0.2355      0.258     -0.913      0.361      -0.741       0.270\n",
      "ar.L5.D.y      0.0531      0.260      0.204      0.838      -0.456       0.562\n",
      "                                    Roots                                    \n",
      "=============================================================================\n",
      "                  Real          Imaginary           Modulus         Frequency\n",
      "-----------------------------------------------------------------------------\n",
      "AR.1           -0.7805           -0.9206j            1.2070           -0.3619\n",
      "AR.2           -0.7805           +0.9206j            1.2070            0.3619\n",
      "AR.3            1.5031           -1.4369j            2.0794           -0.1214\n",
      "AR.4            1.5031           +1.4369j            2.0794            0.1214\n",
      "AR.5            2.9909           -0.0000j            2.9909           -0.0000\n",
      "-----------------------------------------------------------------------------\n"
     ]
    }
   ],
   "source": [
    "model = ARIMA(X, order=(5,1,0))\n",
    "model_fit = model.fit(disp=-1)\n",
    "print(model_fit.summary())"
   ]
  },
  {
   "cell_type": "code",
   "execution_count": 245,
   "metadata": {},
   "outputs": [
    {
     "data": {
      "image/png": "[encoded data removed]",
      "text/plain": [
       "<Figure size 432x288 with 1 Axes>"
      ]
     },
     "metadata": {
      "needs_background": "light"
     },
     "output_type": "display_data"
    }
   ],
   "source": [
    "model_fit.plot_predict(dynamic=False)\n",
    "plt.plot(cinq_annee, c='g', linestyle=':',  label=\"future\")\n",
    "plt.legend()\n",
    "plt.show()"
   ]
  },
  {
   "cell_type": "code",
   "execution_count": 255,
   "metadata": {},
   "outputs": [],
   "source": [
    "ts = pd.Series(X)\n",
    "\n",
    "ts1  = pd.concat([ts, pd.Series(cinq_annee)]).reset_index(drop=True)\n"
   ]
  },
  {
   "cell_type": "code",
   "execution_count": 259,
   "metadata": {},
   "outputs": [],
   "source": [
    "data = pd.DataFrame(ts1)"
   ]
  },
  {
   "cell_type": "code",
   "execution_count": 260,
   "metadata": {},
   "outputs": [
    {
     "data": {
      "text/html": [
       "<div>\n",
       "<style scoped>\n",
       "    .dataframe tbody tr th:only-of-type {\n",
       "        vertical-align: middle;\n",
       "    }\n",
       "\n",
       "    .dataframe tbody tr th {\n",
       "        vertical-align: top;\n",
       "    }\n",
       "\n",
       "    .dataframe thead th {\n",
       "        text-align: right;\n",
       "    }\n",
       "</style>\n",
       "<table border=\"1\" class=\"dataframe\">\n",
       "  <thead>\n",
       "    <tr style=\"text-align: right;\">\n",
       "      <th></th>\n",
       "      <th>0</th>\n",
       "    </tr>\n",
       "  </thead>\n",
       "  <tbody>\n",
       "    <tr>\n",
       "      <th>0</th>\n",
       "      <td>5.600000</td>\n",
       "    </tr>\n",
       "    <tr>\n",
       "      <th>1</th>\n",
       "      <td>5.700000</td>\n",
       "    </tr>\n",
       "    <tr>\n",
       "      <th>2</th>\n",
       "      <td>5.400000</td>\n",
       "    </tr>\n",
       "    <tr>\n",
       "      <th>3</th>\n",
       "      <td>5.400000</td>\n",
       "    </tr>\n",
       "    <tr>\n",
       "      <th>4</th>\n",
       "      <td>5.600000</td>\n",
       "    </tr>\n",
       "    <tr>\n",
       "      <th>5</th>\n",
       "      <td>6.000000</td>\n",
       "    </tr>\n",
       "    <tr>\n",
       "      <th>6</th>\n",
       "      <td>6.300000</td>\n",
       "    </tr>\n",
       "    <tr>\n",
       "      <th>7</th>\n",
       "      <td>6.700000</td>\n",
       "    </tr>\n",
       "    <tr>\n",
       "      <th>8</th>\n",
       "      <td>7.100000</td>\n",
       "    </tr>\n",
       "    <tr>\n",
       "      <th>9</th>\n",
       "      <td>6.800000</td>\n",
       "    </tr>\n",
       "    <tr>\n",
       "      <th>10</th>\n",
       "      <td>10.200000</td>\n",
       "    </tr>\n",
       "    <tr>\n",
       "      <th>11</th>\n",
       "      <td>10.900000</td>\n",
       "    </tr>\n",
       "    <tr>\n",
       "      <th>12</th>\n",
       "      <td>11.400000</td>\n",
       "    </tr>\n",
       "    <tr>\n",
       "      <th>13</th>\n",
       "      <td>12.900000</td>\n",
       "    </tr>\n",
       "    <tr>\n",
       "      <th>14</th>\n",
       "      <td>12.500000</td>\n",
       "    </tr>\n",
       "    <tr>\n",
       "      <th>15</th>\n",
       "      <td>13.100000</td>\n",
       "    </tr>\n",
       "    <tr>\n",
       "      <th>16</th>\n",
       "      <td>15.200000</td>\n",
       "    </tr>\n",
       "    <tr>\n",
       "      <th>17</th>\n",
       "      <td>15.213275</td>\n",
       "    </tr>\n",
       "    <tr>\n",
       "      <th>18</th>\n",
       "      <td>16.031526</td>\n",
       "    </tr>\n",
       "    <tr>\n",
       "      <th>19</th>\n",
       "      <td>17.008250</td>\n",
       "    </tr>\n",
       "    <tr>\n",
       "      <th>20</th>\n",
       "      <td>17.041177</td>\n",
       "    </tr>\n",
       "    <tr>\n",
       "      <th>21</th>\n",
       "      <td>17.908470</td>\n",
       "    </tr>\n",
       "  </tbody>\n",
       "</table>\n",
       "</div>"
      ],
      "text/plain": [
       "            0\n",
       "0    5.600000\n",
       "1    5.700000\n",
       "2    5.400000\n",
       "3    5.400000\n",
       "4    5.600000\n",
       "5    6.000000\n",
       "6    6.300000\n",
       "7    6.700000\n",
       "8    7.100000\n",
       "9    6.800000\n",
       "10  10.200000\n",
       "11  10.900000\n",
       "12  11.400000\n",
       "13  12.900000\n",
       "14  12.500000\n",
       "15  13.100000\n",
       "16  15.200000\n",
       "17  15.213275\n",
       "18  16.031526\n",
       "19  17.008250\n",
       "20  17.041177\n",
       "21  17.908470"
      ]
     },
     "execution_count": 260,
     "metadata": {},
     "output_type": "execute_result"
    }
   ],
   "source": [
    "data"
   ]
  },
  {
   "cell_type": "code",
   "execution_count": 269,
   "metadata": {},
   "outputs": [
    {
     "data": {
      "image/png": "[encoded data removed]",
      "text/plain": [
       "<Figure size 432x288 with 1 Axes>"
      ]
     },
     "metadata": {
      "needs_background": "light"
     },
     "output_type": "display_data"
    }
   ],
   "source": [
    "import matplotlib.pyplot as plt\n",
    "import numpy as np\n",
    "import pandas as pd\n",
    "#fig , ax = plt.subplots()\n",
    "#df = pd.DataFrame({\"y\": np.random.rand(10)})\n",
    "ax = data.iloc[:18, :].plot(ls=\"-\", color=\"b\")\n",
    "#ax.plot(data.iloc[:18, :].values, c='b', label='Vrai')\n",
    "#ax.plot(data.iloc[17:,:].values, c='r',  ls='--', label='Futur')\n",
    "data.iloc[17:,:].plot(ls=\"--\", color=\"r\", ax=ax)\n",
    "ax.legend(['Vrai', 'Futur'])\n",
    "#plt.legend()\n",
    "plt.show()\n"
   ]
  },
  {
   "cell_type": "code",
   "execution_count": 225,
   "metadata": {},
   "outputs": [
    {
     "data": {
      "text/plain": [
       "array([   5.6       ,    5.73339937,    8.45866716,   14.28658088,\n",
       "         30.33771428, -149.47999998, -148.60999999, -144.58000006,\n",
       "       -142.25999986, -145.070002  , -127.79995079, -126.39010562,\n",
       "       -126.05072652, -119.48954796, -118.93315921, -134.95186845])"
      ]
     },
     "execution_count": 225,
     "metadata": {},
     "output_type": "execute_result"
    }
   ],
   "source": [
    "w"
   ]
  },
  {
   "cell_type": "code",
   "execution_count": 227,
   "metadata": {},
   "outputs": [],
   "source": [
    "from statsmodels.tsa.arima.model import ARIMA"
   ]
  },
  {
   "cell_type": "code",
   "execution_count": 229,
   "metadata": {},
   "outputs": [],
   "source": [
    "from statsmodels.tsa.arima.model import ARIMAResults"
   ]
  },
  {
   "cell_type": "code",
   "execution_count": 239,
   "metadata": {},
   "outputs": [
    {
     "data": {
      "text/plain": [
       "array([0.91488336, 0.01327543, 0.8182506 , 0.97672363, 0.03292777,\n",
       "       0.86729222, 0.62169705, 0.32726453, 0.82140785, 0.49736271,\n",
       "       0.50536779, 0.71842734, 0.48405887, 0.58874431, 0.63743735,\n",
       "       0.51343336, 0.61291845, 0.59144708, 0.54616377, 0.6094266 ,\n",
       "       0.5727185 , 0.5686262 , 0.59821024, 0.5693175 , 0.5799704 ,\n",
       "       0.58838875, 0.57205486, 0.58377922, 0.58242814, 0.57582757,\n",
       "       0.58382817, 0.57978585, 0.57862543, 0.58264384, 0.57913433,\n",
       "       0.58013659, 0.58147173, 0.57935299, 0.58070689, 0.58071051])"
      ]
     },
     "execution_count": 239,
     "metadata": {},
     "output_type": "execute_result"
    }
   ],
   "source": [
    "ARIMAResults.forecast(model_fit, steps=40)"
   ]
  },
  {
   "cell_type": "code",
   "execution_count": 241,
   "metadata": {},
   "outputs": [],
   "source": [
    "cinq_annee = model_fit.forecast(steps=5)[0]"
   ]
  },
  {
   "cell_type": "code",
   "execution_count": 242,
   "metadata": {},
   "outputs": [
    {
     "data": {
      "text/plain": [
       "array([15.21327543, 16.03152603, 17.00824966, 17.04117743, 17.90846965])"
      ]
     },
     "execution_count": 242,
     "metadata": {},
     "output_type": "execute_result"
    }
   ],
   "source": [
    "cinq_annee"
   ]
  },
  {
   "cell_type": "code",
   "execution_count": null,
   "metadata": {},
   "outputs": [],
   "source": []
  }
 ],
 "metadata": {
  "kernelspec": {
   "display_name": "Python 3",
   "language": "python",
   "name": "python3"
  },
  "language_info": {
   "codemirror_mode": {
    "name": "ipython",
    "version": 3
   },
   "file_extension": ".py",
   "mimetype": "text/x-python",
   "name": "python",
   "nbconvert_exporter": "python",
   "pygments_lexer": "ipython3",
   "version": "3.7.6"
  }
 },
 "nbformat": 4,
 "nbformat_minor": 4
}
