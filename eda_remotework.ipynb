{
 "cells": [
  {
   "cell_type": "code",
   "execution_count": null,
   "metadata": {},
   "outputs": [],
   "source": [
    "#!pip install pyGithub"
   ]
  },
  {
   "cell_type": "code",
   "execution_count": 1,
   "metadata": {},
   "outputs": [],
   "source": [
    "import requests\n",
    "from pyspark.sql import SparkSession\n",
    "import numpy  as np\n",
    "import pandas as pd\n",
    "import csv\n",
    "import re"
   ]
  },
  {
   "cell_type": "code",
   "execution_count": 2,
   "metadata": {},
   "outputs": [],
   "source": [
    "spark = SparkSession.builder.appName(\"HadoopTp\").getOrCreate()"
   ]
  },
  {
   "cell_type": "code",
   "execution_count": 7,
   "metadata": {},
   "outputs": [],
   "source": [
    "gcs_df  = pd.read_csv(\"./data/gcs.csv\")"
   ]
  },
  {
   "cell_type": "code",
   "execution_count": 8,
   "metadata": {},
   "outputs": [
    {
     "data": {
      "text/html": [
       "<div>\n",
       "<style scoped>\n",
       "    .dataframe tbody tr th:only-of-type {\n",
       "        vertical-align: middle;\n",
       "    }\n",
       "\n",
       "    .dataframe tbody tr th {\n",
       "        vertical-align: top;\n",
       "    }\n",
       "\n",
       "    .dataframe thead th {\n",
       "        text-align: right;\n",
       "    }\n",
       "</style>\n",
       "<table border=\"1\" class=\"dataframe\">\n",
       "  <thead>\n",
       "    <tr style=\"text-align: right;\">\n",
       "      <th></th>\n",
       "      <th>User ID</th>\n",
       "      <th>Time (UTC)</th>\n",
       "      <th>Survey Completion</th>\n",
       "      <th>Publisher Category</th>\n",
       "      <th>Gender</th>\n",
       "      <th>Age</th>\n",
       "      <th>Geography</th>\n",
       "      <th>Weight</th>\n",
       "      <th>Question #1 Answer</th>\n",
       "      <th>Response Time #1 (ms)</th>\n",
       "    </tr>\n",
       "  </thead>\n",
       "  <tbody>\n",
       "    <tr>\n",
       "      <th>0</th>\n",
       "      <td>100012282</td>\n",
       "      <td>2020-04-02 14:00:00</td>\n",
       "      <td>Complete</td>\n",
       "      <td>News</td>\n",
       "      <td>Unknown</td>\n",
       "      <td>Unknown</td>\n",
       "      <td>US-SOUTH-FL-Ocala</td>\n",
       "      <td>0.000000</td>\n",
       "      <td>None of the above / Not working for pay</td>\n",
       "      <td>9272</td>\n",
       "    </tr>\n",
       "    <tr>\n",
       "      <th>1</th>\n",
       "      <td>1000296325</td>\n",
       "      <td>2020-04-02 03:00:00</td>\n",
       "      <td>Complete</td>\n",
       "      <td>News</td>\n",
       "      <td>Male</td>\n",
       "      <td>55-64</td>\n",
       "      <td>US-SOUTH-AL</td>\n",
       "      <td>0.866021</td>\n",
       "      <td>I continue to commute to work</td>\n",
       "      <td>22582</td>\n",
       "    </tr>\n",
       "    <tr>\n",
       "      <th>2</th>\n",
       "      <td>1000475325</td>\n",
       "      <td>2020-04-01 22:00:00</td>\n",
       "      <td>Complete</td>\n",
       "      <td>Reference</td>\n",
       "      <td>Female</td>\n",
       "      <td>55-64</td>\n",
       "      <td>US-MIDWEST-MI</td>\n",
       "      <td>0.614649</td>\n",
       "      <td>None of the above / Not working for pay</td>\n",
       "      <td>5775</td>\n",
       "    </tr>\n",
       "    <tr>\n",
       "      <th>3</th>\n",
       "      <td>1000492508</td>\n",
       "      <td>2020-04-02 15:00:00</td>\n",
       "      <td>Complete</td>\n",
       "      <td>News</td>\n",
       "      <td>Male</td>\n",
       "      <td>55-64</td>\n",
       "      <td>US-SOUTH-TN-Nashville</td>\n",
       "      <td>0.866021</td>\n",
       "      <td>I continue to commute to work</td>\n",
       "      <td>20659</td>\n",
       "    </tr>\n",
       "    <tr>\n",
       "      <th>4</th>\n",
       "      <td>1000612950</td>\n",
       "      <td>2020-04-02 01:00:00</td>\n",
       "      <td>Complete</td>\n",
       "      <td>Other</td>\n",
       "      <td>Female</td>\n",
       "      <td>Unknown</td>\n",
       "      <td>US-SOUTH-FL</td>\n",
       "      <td>0.000000</td>\n",
       "      <td>None of the above / Not working for pay</td>\n",
       "      <td>9935</td>\n",
       "    </tr>\n",
       "  </tbody>\n",
       "</table>\n",
       "</div>"
      ],
      "text/plain": [
       "      User ID           Time (UTC) Survey Completion Publisher Category  \\\n",
       "0   100012282  2020-04-02 14:00:00          Complete               News   \n",
       "1  1000296325  2020-04-02 03:00:00          Complete               News   \n",
       "2  1000475325  2020-04-01 22:00:00          Complete          Reference   \n",
       "3  1000492508  2020-04-02 15:00:00          Complete               News   \n",
       "4  1000612950  2020-04-02 01:00:00          Complete              Other   \n",
       "\n",
       "    Gender      Age              Geography    Weight  \\\n",
       "0  Unknown  Unknown      US-SOUTH-FL-Ocala  0.000000   \n",
       "1     Male    55-64            US-SOUTH-AL  0.866021   \n",
       "2   Female    55-64          US-MIDWEST-MI  0.614649   \n",
       "3     Male    55-64  US-SOUTH-TN-Nashville  0.866021   \n",
       "4   Female  Unknown            US-SOUTH-FL  0.000000   \n",
       "\n",
       "                        Question #1 Answer  Response Time #1 (ms)  \n",
       "0  None of the above / Not working for pay                   9272  \n",
       "1            I continue to commute to work                  22582  \n",
       "2  None of the above / Not working for pay                   5775  \n",
       "3            I continue to commute to work                  20659  \n",
       "4  None of the above / Not working for pay                   9935  "
      ]
     },
     "execution_count": 8,
     "metadata": {},
     "output_type": "execute_result"
    }
   ],
   "source": [
    "gcs_df.head()"
   ]
  },
  {
   "cell_type": "code",
   "execution_count": null,
   "metadata": {},
   "outputs": [],
   "source": []
  }
 ],
 "metadata": {
  "kernelspec": {
   "display_name": "Python 3",
   "language": "python",
   "name": "python3"
  },
  "language_info": {
   "codemirror_mode": {
    "name": "ipython",
    "version": 3
   },
   "file_extension": ".py",
   "mimetype": "text/x-python",
   "name": "python",
   "nbconvert_exporter": "python",
   "pygments_lexer": "ipython3",
   "version": "3.7.6"
  }
 },
 "nbformat": 4,
 "nbformat_minor": 4
}
